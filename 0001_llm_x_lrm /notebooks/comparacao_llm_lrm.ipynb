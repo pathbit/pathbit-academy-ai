{
  "nbformat": 4,
  "nbformat_minor": 0,
  "metadata": {
    "colab": {
      "provenance": [],
      "authorship_tag": "ABX9TyPxgx2wHjrQL9AahRW8ZV4B",
      "include_colab_link": true
    },
    "kernelspec": {
      "name": "python3",
      "display_name": "Python 3"
    },
    "language_info": {
      "name": "python"
    }
  },
  "cells": [
    {
      "cell_type": "markdown",
      "metadata": {
        "id": "view-in-github",
        "colab_type": "text"
      },
      "source": [
        "<a href=\"https://colab.research.google.com/github/pathbit/pathbit-academy-ai/blob/master/0001_llm_x_lrm%20/notebooks/comparacao_llm_lrm.ipynb\" target=\"_parent\"><img src=\"https://colab.research.google.com/assets/colab-badge.svg\" alt=\"Open In Colab\"/></a>"
      ]
    },
    {
      "cell_type": "markdown",
      "source": [
        "# ✨ **Pathbit Academy AI**\n",
        "---"
      ],
      "metadata": {
        "id": "1CWaJaNkr5JB"
      }
    },
    {
      "cell_type": "markdown",
      "source": [
        "🚨 **IMPORTANTE:**\n",
        "\n",
        "*💥 QUALQUER PESSOA QUE CONSIGA RESOLVER A EQUAÇÃO `2 + 2 = ?` PODE CONTINUAR OS PASSOS ABAIXO*"
      ],
      "metadata": {
        "id": "Xv670htP1LDr"
      }
    },
    {
      "cell_type": "markdown",
      "source": [
        "**Artigo de referência:** [https://github.com/pathbit/pathbit-academy-ai/blob/master/0001_llm_x_lrm/article/ARTICLE.md](https://github.com/pathbit/pathbit-academy-ai/blob/master/0001_llm_x_lrm/article/ARTICLE.md)"
      ],
      "metadata": {
        "id": "IjPFjjMwyR7a"
      }
    },
    {
      "cell_type": "markdown",
      "source": [
        "### ֎ **Comparação LLM vs LRM**\n",
        "---"
      ],
      "metadata": {
        "id": "xVCGcybMsiqE"
      }
    },
    {
      "cell_type": "markdown",
      "source": [
        "#### ⁉️ O que é LLM de forma prática?\n",
        "\n",
        "**Foco:** geração de linguagem natural.\n",
        "Treinamento: enormes volumes de texto para aprender padrões linguísticos.\n",
        "\n",
        "**Ponto forte:** velocidade e flexibilidade para responder qualquer tipo de pergunta textual.\n",
        "\n",
        "**Ponto fraco:** raciocínio profundo e consistência em decisões complexas.\n",
        "\n",
        "\n",
        "#### ⁉️ O que é LRM de forma prática?\n",
        "\n",
        "**Foco:** raciocínio estruturado e resolução de problemas.\n",
        "Treinamento: combina dados textuais com técnicas que forçam o modelo a explicar e validar seu raciocínio (cadeia de pensamento, decomposição de problemas, verificação de hipóteses).\n",
        "\n",
        "**Ponto forte:** consistência em tomadas de decisão complexas.\n",
        "\n",
        "**Ponto fraco:** pode ser mais lento e caro que um LLM para tarefas simples."
      ],
      "metadata": {
        "id": "vtuur6nhxuec"
      }
    },
    {
      "cell_type": "markdown",
      "source": [
        "#### ⛳ Criação de conta no Groq\n",
        "---"
      ],
      "metadata": {
        "id": "UR5UUSs1vSa9"
      }
    },
    {
      "cell_type": "markdown",
      "source": [
        "##### ▶ Acessar o site abaixo para criar sua conta\n",
        "\n",
        "**[Groq.com](https://console.groq.com/)**"
      ],
      "metadata": {
        "id": "AZ0vnkOtvX_K"
      }
    },
    {
      "cell_type": "markdown",
      "source": [
        "##### ▶ Criar uma `API KEY` para a sua conta\n",
        "\n",
        "![Criação API KEY](https://raw.githubusercontent.com/pathbit/pathbit-academy-ai/refs/heads/master/0001_llm_x_lrm/assets/01.png)"
      ],
      "metadata": {
        "id": "qwSYsld9wklD"
      }
    },
    {
      "cell_type": "markdown",
      "source": [
        "##### ▶ Copiar e salvar a Api Key em um lugar seguro\n",
        "\n",
        "> **Observações**: *Você pode acessar Api Keys criados através deste link: [https://console.groq.com/keys](https://console.groq.com/keys)*\n",
        "\n",
        "![Copiar API KEY](https://raw.githubusercontent.com/pathbit/pathbit-academy-ai/refs/heads/master/0001_llm_x_lrm/assets/02.png)"
      ],
      "metadata": {
        "id": "hW3KkWLhwmAF"
      }
    },
    {
      "cell_type": "markdown",
      "source": [
        "##### ▶ Adicionar a Api Key criada nas `secrets` do seu Notebook\n",
        "\n",
        "![Adicionar API KEY no Secrets](https://raw.githubusercontent.com/pathbit/pathbit-academy-ai/refs/heads/master/0001_llm_x_lrm/assets/03.png)\n",
        "\n",
        "\n",
        "![Adicionar API KEY no Secrets](https://raw.githubusercontent.com/pathbit/pathbit-academy-ai/refs/heads/master/0001_llm_x_lrm/assets/04.png)"
      ],
      "metadata": {
        "id": "lBz8FBEFzVrg"
      }
    },
    {
      "cell_type": "markdown",
      "source": [
        "#### ⚙️ Configuração do ambiente\n",
        "---"
      ],
      "metadata": {
        "id": "RqiwoNKc1GOU"
      }
    },
    {
      "cell_type": "markdown",
      "source": [
        "##### ▶ Instalar os pacotes que iremos utilizar neste projeto"
      ],
      "metadata": {
        "id": "MBglR7um29yg"
      }
    },
    {
      "cell_type": "code",
      "execution_count": null,
      "metadata": {
        "id": "zC78TBpW-9J_"
      },
      "outputs": [],
      "source": [
        "# Instalar a biblioteca do groq\n",
        "!pip -q install groq"
      ]
    },
    {
      "cell_type": "markdown",
      "source": [
        "##### ▶ Criar e recuperar a variável de ambiente para utilizar no Groq"
      ],
      "metadata": {
        "id": "WMx9g-Xf3pae"
      }
    },
    {
      "cell_type": "code",
      "source": [
        "# Criar e recuperar a variável de ambiente do Groq\n",
        "# ------------------------------------------------------------------------------\n",
        "\n",
        "# Importar os módulos\n",
        "import os\n",
        "from google.colab import userdata\n",
        "\n",
        "# Constante com o nome da secrete adicionada no Notebook\n",
        "GROQ_API_KEY_NAME = \"GROQ_API_KEY\"\n",
        "\n",
        "try:\n",
        "  # Apagar variável de ambiente criada anteriormente\n",
        "  os.environ.pop(GROQ_API_KEY_NAME, None)\n",
        "\n",
        "  # Recupera a secrete adicionada no Notebook\n",
        "  groq_api_key = userdata.get(GROQ_API_KEY_NAME)\n",
        "\n",
        "  # Cria a variável de ambiente para o Groq\n",
        "  os.environ[GROQ_API_KEY_NAME] = groq_api_key\n",
        "\n",
        "  # Verifica se a variável de ambiente não existe\n",
        "  if GROQ_API_KEY_NAME not in os.environ:\n",
        "    raise ValueError(f\"Variável de ambiente {GROQ_API_KEY_NAME} não definida\")\n",
        "\n",
        "  # Imprime o valor da variável de ambiente criada para o Groq\n",
        "  print(f\"✅ {GROQ_API_KEY_NAME}: {os.environ['GROQ_API_KEY'][:6]}******\")\n",
        "except Exception as e:\n",
        "  # Imprime o erro ao tentar recuperar e atualizar a variável de ambiente\n",
        "  print(f\"❌ Erro ao atualizar a variável de ambiente {GROQ_API_KEY_NAME}: {e}\")"
      ],
      "metadata": {
        "id": "KRkCX4pC3p3P"
      },
      "execution_count": null,
      "outputs": []
    },
    {
      "cell_type": "markdown",
      "source": [
        "##### ▶ Validar se o Groq está funcionando corretamente\n",
        "\n",
        "⚠️ Este modelo `compound-beta` é da própria `Groq`, tem um resultado excelente até estes momentos dos meus testes."
      ],
      "metadata": {
        "id": "lvBbPHNVvd9P"
      }
    },
    {
      "cell_type": "code",
      "source": [
        "# Validar se o Groq está funcionando corretamente\n",
        "# ------------------------------------------------------------------------------\n",
        "\n",
        "# Importar os módulos\n",
        "import os\n",
        "from groq import Groq\n",
        "from IPython.display import Markdown, display\n",
        "\n",
        "# Configurar a API Key da Groq\n",
        "# (recomendo guardar em segredos do Colab)\n",
        "groq_api_key = os.environ[GROQ_API_KEY_NAME]\n",
        "client = Groq(api_key=groq_api_key)\n",
        "\n",
        "# Definir o modelo de LLM que iremos utilizar\n",
        "# Modelos: https://console.groq.com/docs/models\n",
        "LLM_MODEL = \"compound-beta\"\n",
        "\n",
        "# Criar a prompt do sistema\n",
        "prompt_sistema = \"\"\"\n",
        "REGRAS:\n",
        "\n",
        "++++\n",
        "\n",
        "Você é um especialista da área de inteligência artificial e está instruindo\n",
        "crianças e adolescentes no período escolar fundamental.\n",
        "\n",
        "  1. Utilize respostas fáceis para o seu público.\n",
        "\n",
        "  2. Utilize exemplos práticos do dia-a-dia desse público.\n",
        "\n",
        "  3. A resposta deve ser formatada no padrão Markdown, seus títulos devem começar\n",
        "  com 3 \"#\", utilizar emojis e ter as quebras adequadas para separar bem cada\n",
        "  parte do texto, facilitando a leitura.\n",
        "\n",
        "  4. Você pode utiliar um pouco de linguagem técnica até para que a pessoa tenha\n",
        "  interesse em continuar pesquisando sobre o tema e seus subtemas.\n",
        "\n",
        "++++\n",
        "\n",
        "\"\"\".strip()\n",
        "\n",
        "# Pergunta do usuário\n",
        "pergunta_usuario = \"Qual a diferença entre LLMs e LRMs?\"\n",
        "\n",
        "# Criar o prompt final concatenado (para exibir ou logar)\n",
        "prompt_final = f\"{prompt_sistema}\\n\\nUSUÁRIO:\\n\\n{pergunta_usuario}\"\n",
        "\n",
        "# Montar mensagens no formato da Groq e chamar o modelo\n",
        "messages = [\n",
        "    {\"role\": \"system\", \"content\": prompt_sistema},\n",
        "    {\"role\": \"user\", \"content\": pergunta_usuario},\n",
        "]\n",
        "\n",
        "resp = client.chat.completions.create(\n",
        "    model=LLM_MODEL,\n",
        "    messages=messages,\n",
        "    temperature=0.3,\n",
        "    max_completion_tokens=1024,\n",
        ")\n",
        "\n",
        "resposta_modelo = resp.choices[0].message.content\n",
        "\n",
        "# Visualizando o resultado formatado em Markdown\n",
        "display(Markdown(f\"\"\"\n",
        "## > Prompt do sistema\n",
        "{prompt_sistema}\n",
        "\n",
        "## > Pergunta do usuário\n",
        "{pergunta_usuario}\n",
        "\n",
        "## > Prompt final enviado ao LLM\n",
        "{prompt_final}\n",
        "\n",
        "## > Resposta do LLM\n",
        "{resposta_modelo}\n",
        "\"\"\"))"
      ],
      "metadata": {
        "colab": {
          "base_uri": "https://localhost:8080/",
          "height": 1000
        },
        "id": "IKUwA6xYvThe",
        "outputId": "11bc4202-b1e9-496c-b93a-e2a675ca1946"
      },
      "execution_count": 20,
      "outputs": [
        {
          "output_type": "display_data",
          "data": {
            "text/plain": [
              "<IPython.core.display.Markdown object>"
            ],
            "text/markdown": "\n## > Prompt do sistema\nREGRAS:\n\n++++\n\nVocê é um especialista da área de inteligência artificial e está instruindo\ncrianças e adolescentes no período escolar fundamental.\n\n  1. Utilize respostas fáceis para o seu público.\n\n  2. Utilize exemplos práticos do dia-a-dia desse público.\n\n  3. A resposta deve ser formatada no padrão Markdown, seus títulos devem começar\n  com 3 \"#\", utilizar emojis e ter as quebras adequadas para separar bem cada\n  parte do texto, facilitando a leitura.\n\n  4. Você pode utiliar um pouco de linguagem técnica até para que a pessoa tenha\n  interesse em continuar pesquisando sobre o tema e seus subtemas.\n\n++++\n\n## > Pergunta do usuário\nQual a diferença entre LLMs e LRMs?\n\n## > Prompt final enviado ao LLM\nREGRAS:\n\n++++\n\nVocê é um especialista da área de inteligência artificial e está instruindo\ncrianças e adolescentes no período escolar fundamental.\n\n  1. Utilize respostas fáceis para o seu público.\n\n  2. Utilize exemplos práticos do dia-a-dia desse público.\n\n  3. A resposta deve ser formatada no padrão Markdown, seus títulos devem começar\n  com 3 \"#\", utilizar emojis e ter as quebras adequadas para separar bem cada\n  parte do texto, facilitando a leitura.\n\n  4. Você pode utiliar um pouco de linguagem técnica até para que a pessoa tenha\n  interesse em continuar pesquisando sobre o tema e seus subtemas.\n\n++++\n\nUSUÁRIO:\n\nQual a diferença entre LLMs e LRMs?\n\n## > Resposta do LLM\n# Diferença entre LLMs e LRMs 🤔\nA diferença entre LLMs (Large Language Models) e LRMs (Large Reasoning Models) é fundamental para entender como a inteligência artificial processa e entende informações.\n\n## O que são LLMs e LRMs? 🤔\nLLMs são **Modelos de Linguagem Grandes**, projetados para processar e entender linguagem natural. Já os LRMs são **Modelos de Raciocínio Grandes**, projetados para processar e realizar raciocínios complexos.\n\n## Características de LLMs 🤖\n* **Exemplo:** Assistente virtual como Siri, Google Assistant ou Alexa.\n* **Função:** Entender e responder perguntas, realizar tarefas simples, etc.\n* **Treinamento:** Grande quantidade de dados de texto.\n\n## Características de LRMs 🤖\n* **Exemplo:** Sistemas de recomendação, diagnóstico médico ou planejamento de rotas.\n* **Função:** Realizar raciocínios complexos, tomar decisões, etc.\n* **Treinamento:** Grande quantidade de dados e regras lógicas.\n\n## Principais diferenças 🤝\nA principal diferença entre LLMs e LRMs é o **objetivo** e o **treinamento**. LLMs se concentram em processar e entender linguagem natural, enquanto LRMs se concentram em realizar raciocínios complexos e tomar decisões. Além disso, o treinamento de LLMs é baseado em grandes quantidades de dados de texto, enquanto o treinamento de LRMs é baseado em grandes quantidades de dados e regras lógicas.\n\n## Exemplos práticos 📚\nPara ilustrar a diferença, considere os seguintes exemplos:\n* Um LLM pode ser usado para criar um chatbot que responde perguntas frequentes de clientes.\n* Um LRM pode ser usado para criar um sistema de recomendação de produtos que sugere itens baseados nas preferências do cliente.\n\n## Conclusão 🎉\nEm resumo, a diferença entre LLMs e LRMs é que LLMs se concentram em processar e entender linguagem natural, enquanto LRMs se concentram em realizar raciocínios complexos e tomar decisões. Ambos são importantes para o desenvolvimento de sistemas inteligentes e podem ser usados em conjunto para criar soluções mais avançadas. 🚀\n\nA resposta para a pergunta \"Qual a diferença entre LLMs e LRMs?\" é:\n**A diferença entre LLMs e LRMs é o objetivo e o treinamento, onde LLMs se concentram em processar e entender linguagem natural e LRMs se concentram em realizar raciocínios complexos e tomar decisões.** 🤔\n"
          },
          "metadata": {}
        }
      ]
    },
    {
      "cell_type": "markdown",
      "source": [
        "### </> Criando as funções para utilizar modelos de LLM e LRM\n",
        "---\n",
        "\n",
        "**ℹ️️ Observações:**\n",
        "\n",
        "*Tentei fazer a melhor documentação possível para explicar o código.*\n",
        "\n",
        "**⚠️ Importante:**\n",
        "\n",
        "*Para garantir os melhores resultados, o código utiliza dois modelos de linguagem diferentes, cada um com uma finalidade específica:*\n",
        "\n",
        "- **`Llama3-70B-8192:`** Um modelo mais genérico, com um foco em compreensão de linguagem natural e tarefas de conversação. Ele é ideal para interpretar o contexto do texto e gerar respostas fluentes e coerentes, garantindo que a comunicação seja clara e natural. O `llama3-70b-8192` está focado gerar texto de forma fluída e natural, como uma conversa, mas não em resolver problemas lógicos ou matemáticos complexos passo a passo como o outro modelo.\n",
        "\n",
        "- **`DeepSeek R1 Distill Llama 70B:`** Este modelo é especializado em tarefas que exigem um raciocínio complexo, como lógica, matemática e programação. Sua arquitetura é otimizada para resolver problemas estruturados de forma eficiente. O `deepseek-r1-distill-llama-70b` é um exemplo, focado em \"pensar\" passo a passo antes de chegar a uma resposta."
      ],
      "metadata": {
        "id": "OAOrEU7q7F1J"
      }
    },
    {
      "cell_type": "markdown",
      "source": [
        "> **FUNÇÕES BÁSICAS**"
      ],
      "metadata": {
        "id": "d95kpV6QA3oc"
      }
    },
    {
      "cell_type": "markdown",
      "source": [
        "\n",
        "**1. Função para recuperar o cliente do Groq**\n"
      ],
      "metadata": {
        "id": "qd0IVDMn-MaJ"
      }
    },
    {
      "cell_type": "code",
      "source": [
        "# Definições das funções auxiliares\n",
        "# ------------------------------------------------------------------------------\n",
        "\n",
        "# Importar os módulos\n",
        "import os\n",
        "import time\n",
        "from groq import Groq\n",
        "from typing import Tuple, Optional\n",
        "from IPython.display import Markdown, display\n",
        "\n",
        "\n",
        "def criar_cliente_groq() -> Groq:\n",
        "    \"\"\"\n",
        "    Cria o cliente da Groq usando a variável de ambiente GROQ_API_KEY.\n",
        "\n",
        "    Por que usar env var?\n",
        "    - Segurança: evita hardcode de chaves no notebook.\n",
        "    - Reprodutibilidade: o mesmo código funciona em diferentes ambientes.\n",
        "    \"\"\"\n",
        "    groq_api_key = os.environ[GROQ_API_KEY_NAME]\n",
        "    if not groq_api_key:\n",
        "        raise RuntimeError(\n",
        "            \"GROQ_API_KEY não definida. No Colab, use: os.environ['GROQ_API_KEY']='sua_chave'\"\n",
        "        )\n",
        "    return Groq(api_key=groq_api_key)\n",
        "\n",
        "\n",
        "def exibir_resposta(\n",
        "    modelo: str,\n",
        "    pergunta: str,\n",
        "    resposta: str,\n",
        "    raciocinio: str = None,\n",
        "    tempo: float = 0.0\n",
        "  ):\n",
        "    \"\"\"\n",
        "    Exibe saída formatada em Markdown no Jupyter/Colab.\n",
        "    - modelo     : nome do modelo utilizado (LLM ou LRM)\n",
        "    - pergunta   : texto enviado\n",
        "    - resposta   : resposta final ao usuário\n",
        "    - raciocinio : cadeia de raciocínio (opcional)\n",
        "    - tempo      : tempo total da execução\n",
        "    \"\"\"\n",
        "    texto_raciocinio = \"\"\n",
        "\n",
        "    if raciocinio:\n",
        "        texto_raciocinio += f\"\\n\\n\"\n",
        "        texto_raciocinio += f\"## 🧐 Raciocínio                                \\n\"\n",
        "        texto_raciocinio += f\"================================================\\n\\n\"\n",
        "        texto_raciocinio += f\"{raciocinio.strip()}\"\n",
        "\n",
        "    texto_md = f\"\"\"\n",
        "## 🧠 Modelo: `{modelo}`\n",
        "**⏱ Tempo de execução:** {tempo:.2f}s\n",
        "\n",
        "{texto_raciocinio}\n",
        "\n",
        "### 📥 Pergunta\n",
        "\n",
        "{pergunta.strip()}\n",
        "\n",
        "### 📤 Resposta\n",
        "\n",
        "{resposta.strip()}\n",
        "    \"\"\"\n",
        "\n",
        "    display(Markdown(texto_md))"
      ],
      "metadata": {
        "id": "2syPSkoZ8Tgg"
      },
      "execution_count": 21,
      "outputs": []
    },
    {
      "cell_type": "markdown",
      "source": [
        "> **LLM: FUNÇÕES E TESTES**\n",
        "\n"
      ],
      "metadata": {
        "id": "HcQRCQ4yAljB"
      }
    },
    {
      "cell_type": "markdown",
      "source": [
        "**2. LLM: Função para responder usando modelo llama3 do Groq**"
      ],
      "metadata": {
        "id": "UMaq_7lW-r2R"
      }
    },
    {
      "cell_type": "code",
      "source": [
        "# Definição da função para responder a pergunta usando LLM\n",
        "# ------------------------------------------------------------------------------\n",
        "\n",
        "# Importar os módulos\n",
        "import os\n",
        "import time\n",
        "from typing import Tuple, Optional\n",
        "from groq import Groq\n",
        "\n",
        "# ==============================\n",
        "# Função: perguntar_llm\n",
        "# Objetivo: enviar pergunta a um modelo de LINGUAGEM (LLM)\n",
        "# Retorna: (texto_resposta, tempo_em_segundos)\n",
        "# ==============================\n",
        "def perguntar_llm(\n",
        "    pergunta: str,\n",
        "    modelo: str = \"llama3-70b-8192\",       # Modelo padrão para linguagem natural\n",
        "    temperatura: float = 0.2,              # Controla a aleatoriedade da resposta\n",
        "    max_tokens_resposta: int = 1024,       # Limita tamanho da resposta (custo/latência)\n",
        "    sistema: Optional[str] = None          # Regras ou persona opcionais\n",
        ") -> Tuple[str, float]:\n",
        "    \"\"\"\n",
        "    Envia uma pergunta para um modelo LLM.\n",
        "\n",
        "    Parâmetros:\n",
        "    - pergunta           : texto enviado ao modelo.\n",
        "    - modelo             : modelo LLM para tarefas gerais (resumo, reescrita, Q&A).\n",
        "    - temperatura        : controla a \"criatividade\" (0.1–0.3 = mais determinístico).\n",
        "    - max_tokens_resposta: limita tamanho da saída, evitando custo ou lentidão.\n",
        "    - sistema            : mensagem opcional para regras ou persona.\n",
        "\n",
        "    Retorna:\n",
        "    - texto: resposta final do modelo.\n",
        "    - tempo: tempo total da chamada em segundos.\n",
        "    \"\"\"\n",
        "    # cria o cliente autenticado\n",
        "    cliente = criar_cliente_groq()\n",
        "\n",
        "    # monta mensagens no formato da API (sistema opcional + usuário obrigatório)\n",
        "    mensagens = []\n",
        "    if sistema:\n",
        "        mensagens.append({\"role\": \"system\", \"content\": sistema})\n",
        "\n",
        "    mensagens.append({\"role\": \"user\", \"content\": pergunta})\n",
        "\n",
        "    # marca início para medir tempo de execução\n",
        "    inicio = time.perf_counter()\n",
        "\n",
        "    # chamada à API da Groq\n",
        "    resposta = cliente.chat.completions.create(\n",
        "        model=modelo,\n",
        "        messages=mensagens,\n",
        "        temperature=temperatura,\n",
        "        max_completion_tokens=max_tokens_resposta,\n",
        "    )\n",
        "\n",
        "    # calcula tempo total\n",
        "    tempo_execucao = time.perf_counter() - inicio\n",
        "\n",
        "    # extrai conteúdo textual da resposta\n",
        "    texto_resposta = resposta.choices[0].message.content.strip()\n",
        "\n",
        "    return modelo, texto_resposta, tempo_execucao"
      ],
      "metadata": {
        "id": "VPoE6SHo-qCJ"
      },
      "execution_count": 22,
      "outputs": []
    },
    {
      "cell_type": "markdown",
      "source": [
        "**3. LLM: Testando a função para responder com LLM**"
      ],
      "metadata": {
        "id": "ijpWGrbX_bX7"
      }
    },
    {
      "cell_type": "code",
      "source": [
        "# Teste da função para responder a pergunta usando LLM\n",
        "# ------------------------------------------------------------------------------\n",
        "\n",
        "# Importar os módulos\n",
        "import os\n",
        "import time\n",
        "from typing import Tuple, Optional\n",
        "from groq import Groq\n",
        "\n",
        "# LLM: resumo e reescrita de tom (usando perguntar_llm)\n",
        "texto = \"\"\"\n",
        "O Banco Central manteve a taxa Selic inalterada. Analistas projetam estabilidade\n",
        "nos próximos meses, com atenção à inflação de serviços e ao mercado de trabalho.\n",
        "\"\"\"\n",
        "\n",
        "# Pedimos um RESUMO curto (linguagem neutra) — tarefa típica de LLM\n",
        "prompt_resumo = f\"Resuma em 2 frases, com linguagem neutra e direta: {texto}\"\n",
        "modelo_resumo, resposta_resumo, tempo_resumo = perguntar_llm(\n",
        "    pergunta=prompt_resumo,\n",
        "    sistema=\"Responda em Markdown de forma clara e concisa.\"\n",
        ")\n",
        "\n",
        "exibir_resposta(\n",
        "    modelo=modelo_resumo,\n",
        "    pergunta=prompt_resumo,\n",
        "    resposta=resposta_resumo,\n",
        "    tempo=tempo_resumo\n",
        ")\n",
        "\n",
        "# Agora pedimos para REESCREVER o próprio resumo com outro tom.\n",
        "#   - IMPORTANTE: incluímos explicitamente o 'resumo' no prompt (o modelo não “lembra” sozinho).\n",
        "prompt_tom = (\n",
        "    \"Reescreva o resumo abaixo com tom mais informal e amigável, mantendo precisão.\\n\\n\"\n",
        "    f\"RESUMO ORIGINAL:\\n{resposta_resumo}\"\n",
        ")\n",
        "modelo_tom, resposta_tom, tempo_tom = perguntar_llm(\n",
        "    pergunta=prompt_tom,\n",
        "    sistema=\"Responda em Markdown e use linguagem acessível; evite jargões.\"\n",
        ")\n",
        "\n",
        "exibir_resposta(\n",
        "    modelo=modelo_tom,\n",
        "    pergunta=prompt_tom,\n",
        "    resposta=resposta_tom,\n",
        "    tempo=tempo_tom\n",
        ")"
      ],
      "metadata": {
        "colab": {
          "base_uri": "https://localhost:8080/",
          "height": 489
        },
        "id": "XxprzeEJ_bJL",
        "outputId": "be120c51-8c26-424b-916d-e74150d1123a"
      },
      "execution_count": 23,
      "outputs": [
        {
          "output_type": "display_data",
          "data": {
            "text/plain": [
              "<IPython.core.display.Markdown object>"
            ],
            "text/markdown": "\n## 🧠 Modelo: `llama3-70b-8192`\n**⏱ Tempo de execução:** 0.34s\n\n\n\n### 📥 Pergunta\n\nResuma em 2 frases, com linguagem neutra e direta: \nO Banco Central manteve a taxa Selic inalterada. Analistas projetam estabilidade\nnos próximos meses, com atenção à inflação de serviços e ao mercado de trabalho.\n\n### 📤 Resposta\n\nO Banco Central manteve a taxa Selic inalterada, indicando estabilidade nos próximos meses. Analistas seguem atentos à inflação de serviços e ao mercado de trabalho para avaliar possíveis mudanças futuras.\n    "
          },
          "metadata": {}
        },
        {
          "output_type": "display_data",
          "data": {
            "text/plain": [
              "<IPython.core.display.Markdown object>"
            ],
            "text/markdown": "\n## 🧠 Modelo: `llama3-70b-8192`\n**⏱ Tempo de execução:** 0.41s\n\n\n\n### 📥 Pergunta\n\nReescreva o resumo abaixo com tom mais informal e amigável, mantendo precisão.\n\nRESUMO ORIGINAL:\nO Banco Central manteve a taxa Selic inalterada, indicando estabilidade nos próximos meses. Analistas seguem atentos à inflação de serviços e ao mercado de trabalho para avaliar possíveis mudanças futuras.\n\n### 📤 Resposta\n\n**Boas Notícias!**\nO Banco Central decidiu manter a taxa Selic igual, o que significa que as coisas devem ficar estáveis nos próximos meses. Agora, os especialistas estão de olho na inflação de serviços e no mercado de trabalho para ver se há alguma mudança no horizonte.\n    "
          },
          "metadata": {}
        }
      ]
    },
    {
      "cell_type": "markdown",
      "source": [
        "> **LRM: FUNÇÕES E TESTES**"
      ],
      "metadata": {
        "id": "cJs63UUhAwja"
      }
    },
    {
      "cell_type": "markdown",
      "source": [
        "**4. LRM: Função para responder usando modelo deepseek do Groq**"
      ],
      "metadata": {
        "id": "gYh2luuPAzrJ"
      }
    },
    {
      "cell_type": "code",
      "source": [
        "# Definição da função para responder a pergunta usando LRM\n",
        "# ------------------------------------------------------------------------------\n",
        "\n",
        "# Importar os módulos\n",
        "import os\n",
        "import time\n",
        "from typing import Tuple, Optional\n",
        "from groq import Groq\n",
        "\n",
        "# ==============================\n",
        "# Função: perguntar_lrm\n",
        "# Objetivo: enviar pergunta a um modelo de RACIOCÍNIO (LRM)\n",
        "# Retorna: (texto_ao_usuario, cadeia_de_raciocinio, tempo_em_segundos)\n",
        "# ==============================\n",
        "def perguntar_lrm(\n",
        "    pergunta: str,\n",
        "    modelo: str = \"deepseek-r1-distill-llama-70b\",   # Modelo otimizado para raciocínio\n",
        "    temperatura: float = 0.2,                        # Baixa variação para consistência\n",
        "    formato_raciocinio: Optional[str] = \"parsed\",    # 'parsed', 'raw', 'hidden' ou None\n",
        "    incluir_raciocinio: bool = True,                 # Só usado se formato_raciocinio=None\n",
        "    max_tokens_resposta: int = 2000,                 # Limite da resposta final\n",
        "    max_tokens_raciocinio: Optional[int] = None,     # Limite da cadeia de raciocínio\n",
        "    sistema: Optional[str] = None                    # Mensagem de sistema opcional\n",
        ") -> Tuple[str, Optional[str], float]:\n",
        "    \"\"\"\n",
        "    Envia uma pergunta a um modelo de raciocínio (LRM) da Groq.\n",
        "\n",
        "    Comportamento:\n",
        "    - Se `formato_raciocinio` ∈ {'parsed','raw','hidden'} → usa `reasoning_format` e\n",
        "      **NÃO** envia `include_reasoning` (evita erro 400).\n",
        "      • 'parsed'  → cadeia vem separada em `message.reasoning`\n",
        "      • 'raw'     → cadeia vem crua, com marcações\n",
        "      • 'hidden'  → o modelo raciocina, mas não retorna a cadeia\n",
        "    - Se `formato_raciocinio` for None → não envia `reasoning_format` e usa `include_reasoning`.\n",
        "\n",
        "    Retorno:\n",
        "      (conteudo_final, cadeia_de_raciocinio|None, tempo_execucao_s)\n",
        "    \"\"\"\n",
        "    # Cliente autenticado\n",
        "    chave = os.getenv(\"GROQ_API_KEY\")\n",
        "    if not chave:\n",
        "        raise RuntimeError(\"Defina GROQ_API_KEY no ambiente.\")\n",
        "    cliente = Groq(api_key=chave)\n",
        "\n",
        "    # Mensagens no formato Chat\n",
        "    mensagens = []\n",
        "    if sistema:\n",
        "        mensagens.append({\"role\": \"system\", \"content\": sistema})\n",
        "    mensagens.append({\"role\": \"user\", \"content\": pergunta})\n",
        "\n",
        "    # Monta kwargs dinâmicos conforme as regras da API\n",
        "    kwargs = {\n",
        "        \"model\": modelo,\n",
        "        \"messages\": mensagens,\n",
        "        \"temperature\": temperatura,\n",
        "        \"max_completion_tokens\": max_tokens_resposta,\n",
        "    }\n",
        "\n",
        "    # Se limite de tokens do raciocínio foi definido, adiciona\n",
        "    if max_tokens_raciocinio is not None:\n",
        "        kwargs[\"max_reasoning_tokens\"] = max_tokens_raciocinio\n",
        "\n",
        "    # Regra de exclusão mútua:\n",
        "    # - Se formato_raciocinio estiver definido, usa reasoning_format e IGNORA include_reasoning\n",
        "    # - Se formato_raciocinio for None, usa include_reasoning (sem reasoning_format)\n",
        "    if formato_raciocinio is not None:\n",
        "        kwargs[\"reasoning_format\"] = formato_raciocinio\n",
        "        # NÃO adicionar include_reasoning para evitar o erro 400\n",
        "    else:\n",
        "        kwargs[\"include_reasoning\"] = bool(incluir_raciocinio)\n",
        "\n",
        "    # Chamada e cronômetro\n",
        "    inicio = time.perf_counter()\n",
        "    resp = cliente.chat.completions.create(**kwargs)\n",
        "    tempo = time.perf_counter() - inicio\n",
        "\n",
        "    # Extração da resposta e (se houver) do raciocínio\n",
        "    msg = resp.choices[0].message\n",
        "    conteudo = (msg.content or \"\").strip()\n",
        "\n",
        "    # A cadeia só vem quando:\n",
        "    # - usamos reasoning_format ('parsed'/'raw'), E\n",
        "    # - não é 'hidden'\n",
        "    if formato_raciocinio in (\"parsed\", \"raw\"):\n",
        "        raciocinio = getattr(msg, \"reasoning\", None)\n",
        "    else:\n",
        "        # Quando formato=None e include_reasoning=True, algumas combinações\n",
        "        # podem retornar o raciocínio embutido; a API nem sempre expõe em `reasoning`.\n",
        "        raciocinio = getattr(msg, \"reasoning\", None)\n",
        "\n",
        "    return modelo, conteudo, raciocinio, tempo"
      ],
      "metadata": {
        "id": "pqYmYrwP-RoL"
      },
      "execution_count": 24,
      "outputs": []
    },
    {
      "cell_type": "markdown",
      "source": [
        "**5. LRM: Testando a função para responder com LRM**\n",
        "\n",
        "-\n",
        "\n",
        "**ℹ️️ IMPORTANTE:**\n",
        "\n",
        "> *Para ver como o modelo chegou à resposta final, procure a seção **🧐 Raciocínio.** Essa é uma demonstração do poder dos modelos especializados em lógica e raciocínio.*\n"
      ],
      "metadata": {
        "id": "9eS76H1EDeJD"
      }
    },
    {
      "cell_type": "code",
      "source": [
        "# Testando a função para responder a pergunta usando LRM\n",
        "# ------------------------------------------------------------------------------\n",
        "\n",
        "# Importar os módulos\n",
        "import os\n",
        "import time\n",
        "import json\n",
        "from typing import Tuple, Optional\n",
        "from groq import Groq\n",
        "\n",
        "cenario = {\n",
        "    \"perfil\": \"conservador\",\n",
        "    \"inflacao_projetada_aa\": 4.0,\n",
        "    \"cdi_aa\": 13.25,\n",
        "    \"vencimentos_anos\": [2026, 2027],\n",
        "    \"objetivo\": \"renda previsível com baixa volatilidade\",\n",
        "}\n",
        "cenario_fmt = json.dumps(cenario, ensure_ascii=False)\n",
        "\n",
        "prompt_lrm = f\"\"\"\n",
        "Você é um analista de investimentos.\n",
        "\n",
        "Dado o cenário:\n",
        "- {cenario_fmt}\n",
        "\n",
        "Decida entre:\n",
        "- título atrelado ao CDI;\n",
        "- prefixado curto;\n",
        "- IPCA+ longo.\n",
        "\n",
        "Importante:\n",
        "\n",
        "1. Resposta e raciocínio sempre em portugês do brasil.\n",
        "2. Estruture o raciocínio em etapas (riscos, liquidez, duration, sensibilidade à inflação).\n",
        "3. Apresente a recomendação final e uma política de rebalanceamento simples.\n",
        "4. Use números aproximados e justificativas claras.\n",
        "\"\"\"\n",
        "\n",
        "modelo, resposta, cadeia, tempo = perguntar_lrm(\n",
        "    pergunta=prompt_lrm,\n",
        "    sistema=\"Responda em Markdown, com listas numeradas nas etapas.\"\n",
        ")\n",
        "\n",
        "exibir_resposta(\n",
        "    modelo=modelo,\n",
        "    pergunta=prompt_lrm,\n",
        "    resposta=resposta,\n",
        "    raciocinio=cadeia,\n",
        "    tempo=tempo\n",
        ")"
      ],
      "metadata": {
        "colab": {
          "base_uri": "https://localhost:8080/",
          "height": 1000
        },
        "id": "3ejlx82kDZ2P",
        "outputId": "3cc94834-8e71-4ceb-ccd0-a2c2d0279ecc"
      },
      "execution_count": 30,
      "outputs": [
        {
          "output_type": "display_data",
          "data": {
            "text/plain": [
              "<IPython.core.display.Markdown object>"
            ],
            "text/markdown": "\n## 🧠 Modelo: `deepseek-r1-distill-llama-70b`\n**⏱ Tempo de execução:** 4.86s\n\n\n\n## 🧐 Raciocínio                                \n================================================\n\nOk, vou começar analisando o perfil do investidor. Ele é conservador, então prioriza segurança e baixa volatilidade. Seu objetivo é ter renda previsível, o que sugere que ele busca retornos regulares e confiáveis.\n\nAgora, vou considerar os riscos de cada opção. O título atrelado ao CDI oferece retorno fixo mais uma parcela atrelada ao CDI, o que pode ser atraente em um cenário de taxas mais altas. No entanto, ele está sujeito a riscos de crédito e mercado, embora esses sejam menores em títulos de maior rating.\n\nO prefixado curto paga um valor fixo no vencimento, o que é bom para quem quer certeza. O risco aqui é mais relacionado à inflação, pois se os índices de inflação subirem além do projetado, o poder de compra pode ser afetado. Além disso, taxas de juros flutuantes podem impactar o valor de mercado do título.\n\nJá o IPCA+ longo oferece proteção contra inflação, o que é bom, mas o risco de crédito é maior, especialmente se a inflação ultrapassar as expectativas. Além disso, a liquidez pode ser menor para títulos mais longos.\n\nEm termos de liquidez, o título atrelado ao CDI geralmente tem boa liquidez, pois é amplamente negociado. O prefixado curto também é líquido, mas pode ter spreads mais amplos. O IPCA+ longo pode ser menos líquido, especialmente em momentos de estresse no mercado.\n\nQuanto à duration, o IPCA+ longo tem uma maior exposição a mudanças nas taxas de juros, o que pode afetar seu valor. O prefixado curto tem menor duration, tornando-o menos sensível a variações nas taxas. O título atrelado ao CDI, por sua vez, tem uma duration intermediária, dependendo do período de recompra.\n\nSobre a sensibilidade à inflação, o IPCA+ longo é o mais protegido, já que acompanha a inflação. O título atrelado ao CDI também tem uma proteção parcial, pois o CDI muitas vezes incorpora expectativas de inflação. O prefixado curto é o mais exposto, já que o pagamento é fixo e não acompanharia uma alta da inflação.\n\nConsiderando o vencimento em 2026 e 2027, o IPCA+ longo pode ser mais adequado, pois protege contra inflação e oferece retorno real. O título atrelado ao CDI é uma boa opção para diversificação, oferecendo exposição a taxas de juros mais altas. O prefixado curto é mais adequado para investidores que buscam liquidez e menor exposição a riscos de mercado.\n\nPara o rebalanceamento, recomendo revisar a carteira anualmente, ajustando os pesos das diferentes classes de ativos conforme as condições de mercado e as necessidades do investidor. Isso ajuda a manter o perfil de risco desejado e a maximizar os retornos.\n\nFinalmente, a recomendação é alocar 50% no IPCA+ longo para proteção contra inflação, 30% no título atrelado ao CDI para exposição a taxas de juros e 20% no prefixado curto para liquidez e segurança. Isso oferece um equilíbrio entre segurança, renda previsível e proteção contra inflação, alinhando-se com o perfil conservador do investidor.\n\n### 📥 Pergunta\n\nVocê é um analista de investimentos.\n\nDado o cenário:\n- {\"perfil\": \"conservador\", \"inflacao_projetada_aa\": 4.0, \"cdi_aa\": 13.25, \"vencimentos_anos\": [2026, 2027], \"objetivo\": \"renda previsível com baixa volatilidade\"}\n\nDecida entre:\n- título atrelado ao CDI;\n- prefixado curto;\n- IPCA+ longo.\n\nImportante:\n\n1. Resposta e raciocínio sempre em portugês do brasil.\n2. Estruture o raciocínio em etapas (riscos, liquidez, duration, sensibilidade à inflação).\n3. Apresente a recomendação final e uma política de rebalanceamento simples.\n4. Use números aproximados e justificativas claras.\n\n### 📤 Resposta\n\n### Análise e Recomendação para Investimento\n\n#### 1. **Perfil do Investidor**\n   - **Perfil:** Conservador\n   - **Objetivo:** Renda previsível com baixa volatilidade\n   - **Inflação Projetada (a.a.):** 4,0%\n   - **CDI (a.a.):** 13,25%\n   - **Vencimentos Anos:** 2026 e 2027\n\n#### 2. **Etapas de Análise**\n\n##### **2.1. Riscos**\n   - **Título atrelado ao CDI:** \n     - Risco de crédito moderado.\n     - Sensível a mudanças nas taxas de juros.\n   - **Prefixado Curto:**\n     - Risco de inflação.\n     - Risco de reinvestimento.\n   - **IPCA+ Longo:**\n     - Risco de crédito mais elevado.\n     - Risco de liquidez.\n\n##### **2.2. Liquidez**\n   - **Título atrelado ao CDI:** Alta liquidez.\n   - **Prefixado Curto:** Liquidez moderada.\n   - **IPCA+ Longo:** Liquidez baixa.\n\n##### **2.3. Duration**\n   - **Título atrelado ao CDI:** Duration intermediária.\n   - **Prefixado Curto:** Duration baixa.\n   - **IPCA+ Longo:** Duration alta.\n\n##### **2.4. Sensibilidade à Inflação**\n   - **Título atrelado ao CDI:** Proteção parcial contra inflação.\n   - **Prefixado Curto:** Sem proteção contra inflação.\n   - **IPCA+ Longo:** Proteção total contra inflação.\n\n#### 3. **Recomendação Final**\n   - **Título atrelado ao CDI:** 50%\n     - Oferece retorno fixo com exposição ao CDI.\n     - Proteção parcial contra inflação.\n   - **Prefixado Curto:** 30%\n     - Oferece retorno fixo e liquidez.\n     - Ideal para vencimentos em 2026 e 2027.\n   - **IPCA+ Longo:** 20%\n     - Proteção total contra inflação.\n     - Ideal para investidores que buscam proteção contra inflação.\n\n#### 4. **Política de Rebalanceamento**\n   - Rebalancear a carteira anualmente.\n   - Ajustar os pesos dos ativos de acordo com as condições de mercado e necessidades do investidor.\n\n### Conclusão\nA recomendação é alocar 50% no título atrelado ao CDI, 30% no prefixado curto e 20% no IPCA+ longo. Essa alocação oferece um equilíbrio entre segurança, renda previsível e proteção contra inflação, alinhando-se com o perfil conservador do investidor.\n    "
          },
          "metadata": {}
        }
      ]
    },
    {
      "cell_type": "markdown",
      "source": [
        "### Comparando ֎ LLM vs LRM 🧠\n",
        "---"
      ],
      "metadata": {
        "id": "bIbj9yHPDx5l"
      }
    },
    {
      "cell_type": "markdown",
      "source": [
        "> *Agora, utilizando o problema anterior, vamsos comparar a diferença entre os modelos com base em um mesmo contexto e/ou problema.*"
      ],
      "metadata": {
        "id": "8hig7SEawnuX"
      }
    },
    {
      "cell_type": "markdown",
      "source": [
        "#### CENÁRIO 1"
      ],
      "metadata": {
        "id": "ARtpn5Fc2VgT"
      }
    },
    {
      "cell_type": "code",
      "source": [
        "# Comparação do MESMO PROMPT para LLM e LRM\n",
        "# ------------------------------------------------------------------------------\n",
        "\n",
        "# Importar os módulos\n",
        "import os\n",
        "import time\n",
        "import json\n",
        "from typing import Tuple, Optional\n",
        "from groq import Groq\n",
        "from IPython.display import Markdown, display\n",
        "\n",
        "# Defindo o prompt\n",
        "cenario = {\n",
        "    \"perfil\": \"conservador\",\n",
        "    \"inflacao_projetada_aa\": 5.0,\n",
        "    \"cdi_aa\": 14.5,\n",
        "    \"vencimentos_anos\": [2026, 2027],\n",
        "    \"objetivo\": \"renda previsível com baixa volatilidade\",\n",
        "}\n",
        "\n",
        "cenario_fmt = json.dumps(cenario, ensure_ascii=False)\n",
        "\n",
        "prompt = f\"\"\"\n",
        "Você é um analista de investimentos.\n",
        "\n",
        "Dado o cenário:\n",
        "- {cenario_fmt}\n",
        "\n",
        "Decida entre:\n",
        "- título atrelado ao CDI;\n",
        "- prefixado curto;\n",
        "- IPCA+ longo.\n",
        "\n",
        "Importante:\n",
        "\n",
        "1. Resposta e raciocínio sempre em portugês do brasil.\n",
        "2. Estruture o raciocínio em etapas (riscos, liquidez, duration, sensibilidade à inflação).\n",
        "3. Apresente a recomendação final e uma política de rebalanceamento simples.\n",
        "4. Use números aproximados e justificativas claras.\n",
        "\"\"\"\n",
        "\n",
        "# Título das comparações\n",
        "display(Markdown(\"## 🔬 Comparação Lado a Lado — LLM vs LRM (MESMO prompt)\"))\n",
        "display(Markdown(f\"### 📝 Prompt usado nos dois modelos\\n> {prompt.replace('\\\\n', '\\\\n> ')}\"))\n",
        "\n",
        "# Máximo de tokens\n",
        "total_tokens_resposta=2000\n",
        "\n",
        "# LLM\n",
        "modelo_llm, saida_llm, tempo_llm = perguntar_llm(\n",
        "    pergunta=prompt,\n",
        "    sistema=\"Responda em Markdown; explicite dependências, riscos e mitigação.\",\n",
        "    max_tokens_resposta=total_tokens_resposta\n",
        ")\n",
        "\n",
        "exibir_resposta(\n",
        "    modelo=modelo_llm,\n",
        "    pergunta=prompt,\n",
        "    resposta=saida_llm,\n",
        "    tempo=tempo_llm\n",
        ")\n",
        "\n",
        "# LRM\n",
        "modelo_lrm, saida_lrm, cadeia_lrm, tempo_lrm = perguntar_lrm(\n",
        "    pergunta=prompt,\n",
        "    sistema=\"Responda em Markdown; explicite dependências, riscos e mitigação.\",\n",
        "    max_tokens_resposta=total_tokens_resposta\n",
        ")\n",
        "\n",
        "exibir_resposta(\n",
        "    modelo=modelo_lrm,\n",
        "    pergunta=prompt,\n",
        "    resposta=saida_lrm,\n",
        "    raciocinio=cadeia_lrm,\n",
        "    tempo=tempo_lrm\n",
        ")"
      ],
      "metadata": {
        "id": "EFQKdnzCELm6",
        "colab": {
          "base_uri": "https://localhost:8080/",
          "height": 1000
        },
        "outputId": "c882f408-d837-45e1-e5cd-86f0d6c5620a"
      },
      "execution_count": 44,
      "outputs": [
        {
          "output_type": "display_data",
          "data": {
            "text/plain": [
              "<IPython.core.display.Markdown object>"
            ],
            "text/markdown": "## 🔬 Comparação Lado a Lado — LLM vs LRM (MESMO prompt)"
          },
          "metadata": {}
        },
        {
          "output_type": "display_data",
          "data": {
            "text/plain": [
              "<IPython.core.display.Markdown object>"
            ],
            "text/markdown": "### 📝 Prompt usado nos dois modelos\n> \nVocê é um analista de investimentos.\n\nDado o cenário:\n- {\"perfil\": \"conservador\", \"inflacao_projetada_aa\": 5.0, \"cdi_aa\": 14.5, \"vencimentos_anos\": [2026, 2027], \"objetivo\": \"renda previsível com baixa volatilidade\"}\n\nDecida entre:\n- título atrelado ao CDI;\n- prefixado curto;\n- IPCA+ longo.\n\nImportante:\n\n1. Resposta e raciocínio sempre em portugês do brasil.\n2. Estruture o raciocínio em etapas (riscos, liquidez, duration, sensibilidade à inflação).\n3. Apresente a recomendação final e uma política de rebalanceamento simples.\n4. Use números aproximados e justificativas claras.\n"
          },
          "metadata": {}
        },
        {
          "output_type": "display_data",
          "data": {
            "text/plain": [
              "<IPython.core.display.Markdown object>"
            ],
            "text/markdown": "\n## 🧠 Modelo: `llama3-70b-8192`\n**⏱ Tempo de execução:** 2.65s\n\n\n\n### 📥 Pergunta\n\nVocê é um analista de investimentos.\n\nDado o cenário:\n- {\"perfil\": \"conservador\", \"inflacao_projetada_aa\": 5.0, \"cdi_aa\": 14.5, \"vencimentos_anos\": [2026, 2027], \"objetivo\": \"renda previsível com baixa volatilidade\"}\n\nDecida entre:\n- título atrelado ao CDI;\n- prefixado curto;\n- IPCA+ longo.\n\nImportante:\n\n1. Resposta e raciocínio sempre em portugês do brasil.\n2. Estruture o raciocínio em etapas (riscos, liquidez, duration, sensibilidade à inflação).\n3. Apresente a recomendação final e uma política de rebalanceamento simples.\n4. Use números aproximados e justificativas claras.\n\n### 📤 Resposta\n\n**Análise de Investimento**\n\n**Perfil do Investidor:** Conservador\n**Objetivo:** Renda previsível com baixa volatilidade\n\n**Etapa 1: Riscos**\n\nO perfil conservador do investidor indica que ele busca minimizar o risco de perda de capital. Portanto, é fundamental evitar investimentos com alto risco de perda de valor.\n\n**Etapa 2: Liquidez**\n\nO investidor não especificou uma necessidade de liquidez imediata, mas é importante considerar a possibilidade de resgate em caso de necessidade. Investimentos com vencimentos mais curtos ou liquidez diária são mais apropriados.\n\n**Etapa 3: Duration**\n\nA duration é um fator importante para investimentos com vencimentos mais longos. No entanto, como o objetivo é renda previsível com baixa volatilidade, é mais importante considerar a taxa de juros e a inflação projetada.\n\n**Etapa 4: Sensibilidade à Inflação**\n\nA inflação projetada para os próximos anos é de 5,0% ao ano. É fundamental considerar investimentos que mantenham o poder de compra do capital investido.\n\n**Análise das Opções**\n\n* **Título atrelado ao CDI:** Oferece uma taxa de juros de 14,5% ao ano, o que é atraente em um cenário de alta taxa de juros. No entanto, como o título é atrelado ao CDI, a taxa de juros pode variar ao longo do tempo, o que pode afetar a renda previsível.\n* **Prefixado curto:** Oferece uma taxa de juros fixa por um período curto de tempo. Embora seja uma opção mais segura, a taxa de juros pode ser menor que a do título atrelado ao CDI.\n* **IPCA+ longo:** Oferece uma taxa de juros indexada à inflação, o que mantém o poder de compra do capital investido. No entanto, a taxa de juros pode ser menor que a do título atrelado ao CDI.\n\n**Recomendação Final**\n\nConsiderando o perfil conservador do investidor e o objetivo de renda previsível com baixa volatilidade, **recomendo o título atrelado ao CDI**. Embora haja um risco de variação da taxa de juros, a taxa de 14,5% ao ano é atraente em um cenário de alta taxa de juros. Além disso, o título atrelado ao CDI oferece uma renda previsível com baixa volatilidade.\n\n**Política de Rebalanceamento**\n\nPara manter a estratégia de investimento, é recomendável rever a carteira a cada 6 meses e rebalancear se a taxa de juros do título atrelado ao CDI variar em mais de 1% em relação à taxa de juros projetada. Além disso, é importante monitorar a inflação projetada e ajustar a estratégia de investimento se necessário.\n    "
          },
          "metadata": {}
        },
        {
          "output_type": "display_data",
          "data": {
            "text/plain": [
              "<IPython.core.display.Markdown object>"
            ],
            "text/markdown": "\n## 🧠 Modelo: `deepseek-r1-distill-llama-70b`\n**⏱ Tempo de execução:** 5.78s\n\n\n\n## 🧐 Raciocínio                                \n================================================\n\nOk, vamos lá. Primeiro, preciso entender o perfil do investidor. Ele é conservador, então busca renda previsível com baixa volatilidade. Isso significa que ele provavelmente não quer correr riscos altos e prefere estabilidade.\n\nAgora, os dados do cenário: inflação projetada de 5% ao ano e CDI de 14,5% ao ano. Os vencimentos são em 2026 e 2027. O objetivo é renda previsível com baixa volatilidade.\n\nPrimeiro, vou analisar cada uma das opções: título atrelado ao CDI, prefixado curto e IPCA+ longo.\n\nComeço com o título atrelado ao CDI. Como o CDI está em 14,5%, isso oferece uma rentabilidade maior, mas com risco de crédito. Se o investidor optar por um título de liquidez diária, pode resgatar o dinheiro quando precisar, o que é bom. No entanto, se a taxa de juros subir, o valor do título pode cair, o que é um risco. Além disso, a inflação projetada de 5% é menor que o CDI, então a rentabilidade real seria de 9,5%, o que é bom. Mas o risco de crédito pode ser um problema se a instituição financeira tiver problemas.\n\nEm seguida, o prefixado curto. Com vencimento em 2026 e 2027, a rentabilidade líquida é de 8% a 9%. Isso é menor que o CDI, mas o risco de taxa de juros é menor porque o prazo é curto. A liquidez também é boa, pois são títulos de alta liquidez. A exposição à inflação é menor aqui, já que o prazo é curto e a inflação projetada é de 5%, então a rentabilidade real seria de 3% a 4%, o que é razoável, mas menor que o CDI.\n\nPor fim, o IPCA+ longo. Oferece uma rentabilidade de 4% mais a inflação. Com a inflação projetada de 5%, a rentabilidade total seria de 9%. Isso protege contra a inflação, o que é bom. No entanto, o prazo mais longo significa que o risco de taxa de juros é maior. Se as taxas de juros subirem, o valor do título pode cair bastante. Além disso, a liquidez pode ser menor, o que pode ser um problema se o investidor precisar do dinheiro rapidamente.\n\nAgora, pensando no perfil conservador, a liquidez é importante, então opções com boa liquidez são preferíveis. O risco de crédito no CDI pode ser mitigado escolhendo instituições financeiras sólidas. O risco de taxa de juros no IPCA+ longo é preocupante, então talvez não seja a melhor opção para um investidor conservador.\n\nConsiderando tudo isso, o título atrelado ao CDI parece mais adequado. Oferece uma boa rentabilidade, proteção contra a inflação e liquidez diária. Além disso, o risco de crédito pode ser minimizado escolhendo instituições confiáveis. Para mitigar o risco de taxa de juros, o investidor pode manter uma carteira diversificada e monitorar as taxas de juros para decidir se precisa rebalancear.\n\nPortanto, a recomendação seria investir em títulos atrelados ao CDI, com vencimentos em 2026 e 2027, para garantir renda previsível e baixa volatilidade. Além disso, é importante monitorar regularmente as taxas de juros e a inflação para decidir se é necessário rebalancear a carteira, mantendo-a alinhada com o perfil de risco do investidor.\n\n### 📥 Pergunta\n\nVocê é um analista de investimentos.\n\nDado o cenário:\n- {\"perfil\": \"conservador\", \"inflacao_projetada_aa\": 5.0, \"cdi_aa\": 14.5, \"vencimentos_anos\": [2026, 2027], \"objetivo\": \"renda previsível com baixa volatilidade\"}\n\nDecida entre:\n- título atrelado ao CDI;\n- prefixado curto;\n- IPCA+ longo.\n\nImportante:\n\n1. Resposta e raciocínio sempre em portugês do brasil.\n2. Estruture o raciocínio em etapas (riscos, liquidez, duration, sensibilidade à inflação).\n3. Apresente a recomendação final e uma política de rebalanceamento simples.\n4. Use números aproximados e justificativas claras.\n\n### 📤 Resposta\n\n# Análise de Investimentos para Perfil Conservador\n\n## Resumo da Situação\n- **Perfil do Investidor:** Conservador, busca renda previsível com baixa volatilidade.\n- **Cenário Econômico:**\n  - Inflação projetada: 5,0% a.a.\n  - CDI: 14,5% a.a.\n  - Vencimentos desejados: 2026 e 2027.\n\n## Opções de Investimento\n\n### 1. Título Atrelado ao CDI\n- **Características:**\n  - Rentabilidade de 14,5% a.a.\n  - Liquidez diária.\n  - Sensível a mudanças nas taxas de juros.\n  - Risco de crédito depende da instituição emissora.\n\n- **Vantagens:**\n  - Alta rentabilidade.\n  - Liquidez imediata.\n  - Proteção contra inflação superior à projetada.\n\n- **Desvantagens:**\n  - Risco de perda de valor se as taxas de juros subirem.\n  - Risco de crédito.\n\n### 2. Prefixado Curto\n- **Características:**\n  - Rentabilidade líquida de 8% a 9% a.a.\n  - Vencimento em 2026 e 2027.\n  - Menor exposição ao risco de taxa de juros.\n\n- **Vantagens:**\n  - Menor risco de taxa de juros.\n  - Liquidez relativamente boa.\n  - Rentabilidade razoável.\n\n- **Desvantagens:**\n  - Rentabilidade inferior ao CDI.\n  - Exposição à inflação, embora menor.\n\n### 3. IPCA+ Longo\n- **Características:**\n  - Rentabilidade de IPCA + 4% a.a. (9% total).\n  - Proteção contra inflação.\n  - Maior exposição ao risco de taxa de juros.\n\n- **Vantagens:**\n  - Proteção contra inflação.\n  - Rentabilidade competitiva.\n\n- **Desvantagens:**\n  - Maior risco de perda de valor com aumento das taxas de juros.\n  - Menor liquidez.\n\n## Análise por Etapas\n\n### 1. Riscos\n- **Título CDI:** Risco de crédito e risco de taxa de juros.\n- **Prefixado Curto:** Menor risco de taxa de juros, exposição à inflação.\n- **IPCA+ Longo:** Maior risco de taxa de juros.\n\n### 2. Liquidez\n- **Título CDI:** Alta liquidez.\n- **Prefixado Curto:** Liquidez boa.\n- **IPCA+ Longo:** Liquidez menor.\n\n### 3. Duration\n- **Título CDI:** Duration mais curto, menos exposição ao risco de taxa de juros.\n- **Prefixado Curto:** Duration curto, menor risco.\n- **IPCA+ Longo:** Duration mais longo, maior exposição ao risco.\n\n### 4. Sensibilidade à Inflação\n- **Título CDI:** Proteção contra inflação.\n- **Prefixado Curto:** Menor proteção.\n- **IPCA+ Longo:** Proteção total contra inflação.\n\n## Recomendação Final\n**Recomendação:** Investir em **títulos atrelados ao CDI** com vencimentos em 2026 e 2027.\n\n**Justificativa:**\n- Oferecem alta rentabilidade (14,5% a.a.).\n- Proteção contra inflação.\n- Liquidez diária.\n- Risco de crédito pode ser mitigado escolhendo instituições financeiras sólidas.\n\n## Política de Rebalanceamento\n- Monitorar taxas de juros e inflação semestralmente.\n- Rebalancear para manter a exposição ao risco de taxa de juros em níveis confortáveis para o perfil conservador.\n\n## Conclusão\nOs títulos atrelados ao CDI são a melhor opção para o perfil conservador, oferecendo renda previsível, baixa volatilidade e proteção contra inflação. A liquidez diária e a rentabilidade superior compensam os riscos associados, que podem ser mitigados com uma gestão cuidadosa.\n    "
          },
          "metadata": {}
        }
      ]
    },
    {
      "cell_type": "markdown",
      "source": [
        "#### CENÁRIO 2"
      ],
      "metadata": {
        "id": "yG9bx5kR2ZmO"
      }
    },
    {
      "cell_type": "code",
      "source": [
        "# Comparação do MESMO PROMPT para LLM e LRM\n",
        "# ------------------------------------------------------------------------------\n",
        "\n",
        "# Importar os módulos\n",
        "import os\n",
        "import time\n",
        "import json\n",
        "from typing import Tuple, Optional\n",
        "from groq import Groq\n",
        "from IPython.display import Markdown, display\n",
        "\n",
        "def _blockquote(txt: str) -> str:\n",
        "    txt = (txt or \"\").strip()\n",
        "    return \"\" if not txt else \"\\n\".join(\"> \" + ln for ln in txt.splitlines())\n",
        "\n",
        "# Mesmo CENÁRIO (user prompt idêntico para ambos) ===\n",
        "prompt_comum = \"\"\"\n",
        "Crie um plano de 6 semanas para lançar um MVP de assistente de atendimento:\n",
        "\n",
        "  - Backend: APIs já existentes.\n",
        "  - Frontend: web app simples.\n",
        "  - Equipe: 2 devs full-stack, 1 QA, 1 PM; sprint semanal.\n",
        "  - Restrições: integração com WhatsApp Business na semana 3+; testes de carga na semana 5.\n",
        "  - Entregáveis por semana; riscos e mitigação; critérios de aceite.\n",
        "\"\"\".strip()\n",
        "\n",
        "display(Markdown(\"## 🔬 Comparação LLM vs LRM — **mesmo cenário**, papéis diferentes\"))\n",
        "display(Markdown(\"### 📝 Prompt (usuário) enviado *igual* aos dois modelos\"))\n",
        "display(Markdown(_blockquote(prompt_comum)))\n",
        "\n",
        "# Máximo de tokens\n",
        "total_tokens_resposta=2000\n",
        "\n",
        "# Regras de SISTEMA para separar os perfis\n",
        "prompt_sistema_comum =f\"\"\"\n",
        "Você é um analista de projetos e deve EXPLICAR O RACIOCÍNIO.\n",
        "-\n",
        "Responda em Markdown, com:\n",
        "\n",
        "  1) Decomposição em etapas (dependências, riscos, trade-offs).\n",
        "  2) Estimativas simples (horas por papel, capacidade por sprint, margens).\n",
        "  3) Tabela de riscos (probabilidade x impacto x mitigação) e caminho crítico.\n",
        "  4) Critérios de aceite objetivos por semana.\n",
        "  5) Formate como lista de semanas com checklist objetivo.\n",
        "\n",
        "  Inclua uma seção final de 'Decisões e justificativas' com o porquê de cada escolha.\n",
        "\n",
        "Importante:\n",
        "\n",
        "  1. Texto do raciocínio sempre em português do brasil.\n",
        "  2. Estruture o raciocínio em etapas (riscos, liquidez, duration, sensibilidade à inflação).\n",
        "  3. Apresente a recomendação final e uma política de rebalanceamento simples.\n",
        "  4. Use números aproximados e justificativas claras.\n",
        "  5. Máximo de {total_tokens_resposta} tokens no retorno.\n",
        "\"\"\"\n",
        "\n",
        "# LLM: síntese direta, sem cadeia explícita ===\n",
        "modelo_llm, saida_llm, tempo_llm = perguntar_llm(\n",
        "    pergunta=prompt_comum,\n",
        "    sistema=prompt_sistema_comum,\n",
        "    max_tokens_resposta=8192\n",
        ")\n",
        "\n",
        "# Exibe resposta LLM\n",
        "exibir_resposta(\n",
        "    modelo=modelo_llm,\n",
        "    pergunta=prompt_comum,\n",
        "    resposta=saida_llm,\n",
        "    tempo=tempo_llm\n",
        ")\n",
        "\n",
        "# -----\n",
        "\n",
        "# LRM: estrutura com cadeia de raciocínio separada ===\n",
        "modelo_lrm, saida_lrm, cadeia_lrm, tempo_lrm = perguntar_lrm(\n",
        "    pergunta=prompt_comum,\n",
        "    sistema=prompt_sistema_comum,\n",
        "    max_tokens_resposta=2000\n",
        ")\n",
        "\n",
        "# Exibe LRM com raciocínio destacado\n",
        "exibir_resposta(\n",
        "    modelo=modelo_lrm,\n",
        "    pergunta=prompt_comum,\n",
        "    resposta=saida_lrm,\n",
        "    raciocinio=cadeia_lrm,\n",
        "    tempo=tempo_lrm\n",
        ")"
      ],
      "metadata": {
        "colab": {
          "base_uri": "https://localhost:8080/",
          "height": 1000
        },
        "id": "HUj2yrlf2BJY",
        "outputId": "627313a2-903d-4fe8-81fc-648851b686f8"
      },
      "execution_count": 42,
      "outputs": [
        {
          "output_type": "display_data",
          "data": {
            "text/plain": [
              "<IPython.core.display.Markdown object>"
            ],
            "text/markdown": "## 🔬 Comparação LLM vs LRM — **mesmo cenário**, papéis diferentes"
          },
          "metadata": {}
        },
        {
          "output_type": "display_data",
          "data": {
            "text/plain": [
              "<IPython.core.display.Markdown object>"
            ],
            "text/markdown": "### 📝 Prompt (usuário) enviado *igual* aos dois modelos"
          },
          "metadata": {}
        },
        {
          "output_type": "display_data",
          "data": {
            "text/plain": [
              "<IPython.core.display.Markdown object>"
            ],
            "text/markdown": "> Crie um plano de 6 semanas para lançar um MVP de assistente de atendimento:\n>   \n>   - Backend: APIs já existentes.\n>   - Frontend: web app simples.\n>   - Equipe: 2 devs full-stack, 1 QA, 1 PM; sprint semanal.\n>   - Restrições: integração com WhatsApp Business na semana 3+; testes de carga na semana 5.\n>   - Entregáveis por semana; riscos e mitigação; critérios de aceite."
          },
          "metadata": {}
        },
        {
          "output_type": "display_data",
          "data": {
            "text/plain": [
              "<IPython.core.display.Markdown object>"
            ],
            "text/markdown": "\n## 🧠 Modelo: `llama3-70b-8192`\n**⏱ Tempo de execução:** 3.06s\n\n\n\n### 📥 Pergunta\n\nCrie um plano de 6 semanas para lançar um MVP de assistente de atendimento:\n  \n  - Backend: APIs já existentes.\n  - Frontend: web app simples.\n  - Equipe: 2 devs full-stack, 1 QA, 1 PM; sprint semanal.\n  - Restrições: integração com WhatsApp Business na semana 3+; testes de carga na semana 5.\n  - Entregáveis por semana; riscos e mitigação; critérios de aceite.\n\n### 📤 Resposta\n\n**Plano de 6 semanas para lançar um MVP de assistente de atendimento**\n\n### Decomposição em etapas\n\n1. **Semana 1: Definição de requisitos e planejamento**\n\t* Definir requisitos funcionais e não funcionais do MVP\n\t* Planejar a estrutura do frontend e backend\n\t* Identificar riscos e criar plano de mitigação\n\t* Estabelecer critérios de aceite para cada semana\n\t* Risco: Mudanças nos requisitos funcionais; Mitigação: Reuniões diárias com a equipe e stakeholders\n2. **Semana 2: Desenvolvimento do frontend**\n\t* Desenvolver a estrutura básica do frontend (HTML, CSS, JS)\n\t* Implementar a lógica de negócios do assistente de atendimento\n\t* Risco: Complexidade na implementação da lógica de negócios; Mitigação: Dividir a tarefa em subtarefas menores e revisar o código regularmente\n3. **Semana 3: Integração com WhatsApp Business**\n\t* Integrar o frontend com as APIs do WhatsApp Business\n\t* Implementar a lógica de envio e recebimento de mensagens\n\t* Risco: Dificuldades na integração com WhatsApp Business; Mitigação: Contato prévio com a equipe de suporte do WhatsApp Business e testes rigorosos\n4. **Semana 4: Desenvolvimento do backend**\n\t* Desenvolver a lógica de negócios do backend (APIs)\n\t* Implementar a integração com as APIs existentes\n\t* Risco: Complexidade na implementação da lógica de negócios; Mitigação: Dividir a tarefa em subtarefas menores e revisar o código regularmente\n5. **Semana 5: Testes de carga e ajustes**\n\t* Realizar testes de carga no sistema\n\t* Ajustar a performance do sistema\n\t* Risco: Falha nos testes de carga; Mitigação: Realizar testes de carga incremental e ajustar a performance gradualmente\n6. **Semana 6: Testes finais e deploy**\n\t* Realizar testes finais do sistema\n\t* Deploy do sistema em produção\n\t* Risco: Erros críticos no sistema; Mitigação: Realizar testes rigorosos e ter um plano de rollback pronto\n\n### Estimativas simples\n\n* 2 devs full-stack: 80 horas por semana\n* 1 QA: 40 horas por semana\n* 1 PM: 20 horas por semana\n* Capacidade por sprint: 120 horas\n\n### Tabela de riscos\n\n| Risco | Probabilidade | Impacto | Mitigação |\n| --- | --- | --- | --- |\n| Mudanças nos requisitos funcionais | 30% | Alto | Reuniões diárias com a equipe e stakeholders |\n| Complexidade na implementação da lógica de negócios | 40% | Médio | Dividir a tarefa em subtarefas menores e revisar o código regularmente |\n| Dificuldades na integração com WhatsApp Business | 20% | Alto | Contato prévio com a equipe de suporte do WhatsApp Business e testes rigorosos |\n| Falha nos testes de carga | 10% | Alto | Realizar testes de carga incremental e ajustar a performance gradualmente |\n| Erros críticos no sistema | 10% | Alto | Realizar testes rigorosos e ter um plano de rollback pronto |\n\n### Critérios de aceite por semana\n\n* Semana 1: Definição de requisitos funcionais e não funcionais do MVP\n* Semana 2: Implementação da lógica de negócios do frontend\n* Semana 3: Integração com WhatsApp Business\n* Semana 4: Implementação da lógica de negócios do backend\n* Semana 5: Testes de carga e ajustes\n* Semana 6: Testes finais e deploy\n\n### Formato de checklist por semana\n\n**Semana 1**\n\n* Definição de requisitos funcionais e não funcionais do MVP\n* Planejamento da estrutura do frontend e backend\n* Identificação de riscos e criação de plano de mitigação\n\n**Semana 2**\n\n* Implementação da lógica de negócios do frontend\n* Revisão do código e ajustes\n\n**Semana 3**\n\n* Integração com WhatsApp Business\n* Implementação da lógica de envio e recebimento de mensagens\n\n**Semana 4**\n\n* Implementação da lógica de negócios do backend\n* Integração com as APIs existentes\n\n**Semana 5**\n\n* Testes de carga e ajustes\n* Ajustes na performance do sistema\n\n**Semana 6**\n\n* Testes finais do sistema\n* Deploy do sistema em produção\n\n### Decisões e justificativas\n\n* A equipe de desenvolvimento foi dividida em duas para trabalhar em paralelo no frontend e backend, para reduzir o tempo de desenvolvimento.\n* A integração com WhatsApp Business foi priorizada para a semana 3, pois é um requisito crítico para o MVP.\n* Os testes de carga foram agendados para a semana 5, para garantir que o sistema esteja pronto para o deploy.\n* A equipe de QA foi designada para realizar testes rigorosos em todas as semanas, para garantir a qualidade do sistema.\n* O PM foi designado para gerenciar o projeto e garantir que os critérios de aceite sejam atendidos em cada semana.\n    "
          },
          "metadata": {}
        },
        {
          "output_type": "display_data",
          "data": {
            "text/plain": [
              "<IPython.core.display.Markdown object>"
            ],
            "text/markdown": "\n## 🧠 Modelo: `deepseek-r1-distill-llama-70b`\n**⏱ Tempo de execução:** 7.35s\n\n\n\n## 🧐 Raciocínio                                \n================================================\n\nOkay, I need to create a 6-week plan to launch an MVP for a customer service assistant. The user has provided specific details about the team, technologies, and constraints, so I should structure the plan accordingly.\n\nFirst, I'll break down the project into weekly sprints. Each sprint should have clear objectives, deliverables, and considerations for risks and dependencies. Since the backend uses existing APIs, that should save some time, but the frontend is a new web app, so I'll need to allocate time for that.\n\nThe team consists of 2 full-stack devs, 1 QA, and 1 PM. That means development can be parallelized, but I need to ensure tasks are distributed efficiently. The PM will handle coordination, so that's a plus for keeping things on track.\n\nLooking at the constraints, integration with WhatsApp Business starts from week 3 onwards, and load testing is in week 5. These are critical points because delays here could affect the entire timeline. I should plan for contingencies around these areas.\n\nI'll start by outlining each week with specific goals. Week 1 should focus on project setup and initial planning. The PM sets up the environment, defines the backlog, and the team finalizes the MVP scope. Risks here might include scope creep, so keeping the scope small is key.\n\nIn Week 2, the frontend development begins. The devs will work on the basic UI/UX, and the QA starts drafting test cases. The risk here is design issues, so regular feedback sessions can mitigate that.\n\nWeek 3 is when the WhatsApp integration starts. The backend team will handle the API integration while the frontend continues with advanced features. The risk is API compatibility issues, so having a backup plan is essential.\n\nWeek 4 focuses on connecting the frontend and backend. The QA does system testing, and the PM ensures everything is on track. The risk here is integration bugs, so thorough testing is crucial.\n\nWeek 5 is for performance testing. The team conducts load tests and optimizes the system. The risk is discovering scalability issues late, so starting early and iterating quickly is important.\n\nFinally, Week 6 is the preparation for launch. The team deploys the MVP, sets up monitoring, and gets ready for user feedback. The risk is deployment issues, so a rollback plan is necessary.\n\nI'll also outline the estimated hours per role to ensure the workload is manageable. The PM has consistent hours each week, while devs and QA have varying loads depending on the sprint.\n\nFor risks, I'll create a table assessing probability, impact, and mitigation strategies. The critical path includes WhatsApp integration and frontend development, as delays here would directly impact the launch.\n\nThe acceptance criteria should be clear each week, ensuring that each sprint delivers functional and tested features. This helps in maintaining quality and meeting deadlines.\n\nIn the end, I'll summarize the decisions made, like starting with the MVP scope to avoid delays, integrating early with WhatsApp to handle issues sooner, and prioritizing performance testing to ensure scalability.\n\nOverall, the plan balances development, testing, and integration with clear risk management strategies to ensure the MVP launches successfully within six weeks.\n\n### 📥 Pergunta\n\nCrie um plano de 6 semanas para lançar um MVP de assistente de atendimento:\n  \n  - Backend: APIs já existentes.\n  - Frontend: web app simples.\n  - Equipe: 2 devs full-stack, 1 QA, 1 PM; sprint semanal.\n  - Restrições: integração com WhatsApp Business na semana 3+; testes de carga na semana 5.\n  - Entregáveis por semana; riscos e mitigação; critérios de aceite.\n\n### 📤 Resposta\n\n### Plano de 6 Semanas para Lançar MVP de Assistente de Atendimento\n\n#### 1) Decomposição em Etapas (Dependências, Riscos, Trade-offs)\n\n| Semana | Etapa                          | Dependências                     | Riscos                                      | Trade-offs                                   |\n|--------|--------------------------------|----------------------------------|---------------------------------------------|----------------------------------------------|\n| 1      | Setup do Projeto e Planejamento | Definição do escopo MVP         | Atraso na definição do escopo                | Priorizar funcionalidades essenciais         |\n| 2      | Desenvolvimento Frontend Básico | Conclusão da semana 1            | Dificuldade na implementação da UI/UX       | Simplificar a interface para agilizar o desenvolvimento |\n| 3      | Integração com WhatsApp Business | Conclusão da semana 2           | Problemas de compatibilidade com a API do WhatsApp | Testar em ambiente de homologação antes de deploy |\n| 4      | Conexão Frontend-Backend        | Conclusão da semana 3            | Erros de integração                         | Focar em testes unitários e de integração     |\n| 5      | Testes de Carga e Otimização   | Conclusão da semana 4            | Descoberta tardia de problemas de performance | Realizar testes incrementais desde cedo       |\n| 6      | Preparação para Lançamento      | Conclusão da semana 5            | Problemas de deploy                          | Realizar deploy gradual e ter plano de rollback |\n\n#### 2) Estimativas Simples\n\n| Papel           | Hrs Semana 1 | Hrs Semana 2 | Hrs Semana 3 | Hrs Semana 4 | Hrs Semana 5 | Hrs Semana 6 |\n|-----------------|--------------|--------------|--------------|--------------|--------------|--------------|\n| Dev Full-Stack  | 40           | 40           | 40           | 40           | 40           | 20           |\n| QA              | 20           | 20           | 20           | 20           | 40           | 20           |\n| PM              | 20           | 20           | 20           | 20           | 20           | 20           |\n\n**Capacidade por Sprint:**  \n- **Desenvolvedores:** 80 hrs/semana  \n- **QA:** 20 hrs/semana (aumenta para 40 na semana 5)  \n- **PM:** 20 hrs/semana  \n\n**Margens de Segurança:**  \n- Desenvolvedores: 10% de folga  \n- QA: 20% de folga  \n\n#### 3) Tabela de Riscos\n\n| Risco                              | Probabilidade | Impacto | Mitigação                                      |\n|-------------------------------------|---------------|---------|------------------------------------------------|\n| Atraso na definição do escopo MVP   | Alta          | Alto    | Workshop de definição de escopo na semana 1     |\n| Dificuldade na implementação da UI/UX | Média        | Médio   | Feedback constante com o time de UX            |\n| Problemas de compatibilidade com WhatsApp | Alta | Alto | Testar em ambiente de homologação antes do deploy |\n| Erros de integração                 | Média         | Médio   | Realizar testes de integração contínuos         |\n| Descoberta tardia de problemas de performance | Baixa | Alto | Realizar testes de carga incrementais desde cedo |\n| Problemas de deploy                  | Baixa        | Médio   | Realizar deploy gradual e ter plano de rollback |\n\n**Caminho Crítico:**  \n1. Integração com WhatsApp Business (Semana 3)  \n2. Desenvolvimento Frontend Básico (Semana 2)  \n3. Testes de Carga (Semana 5)  \n\n#### 4) Critérios de Aceite Objetivos por Semana\n\n| Semana | Critérios de Aceite                                                                 |\n|--------|-------------------------------------------------------------------------------------|\n| 1      | Escopo MVP definido e aprovado; Ambiente de desenvolvimento configurado               |\n| 2      | Funcionalidades básicas do frontend implementadas e testadas                           |\n| 3      | Integração com WhatsApp Business funcional em ambiente de homologação                |\n| 4      | Frontend conectado ao backend com testes de integração bem-sucedidos                  |\n| 5      | Testes de carga aprovados; Sistema otimizado para 1000 usuários simultâneos            |\n| 6      | MVP deployado em produção; Documentação finalizada; Monitoramento configurado         |\n\n#### 5) Formato de Semanas com Checklist Objetivo\n\n| Semana | Checklist                                                                 |\n|--------|-----------------------------------------------------------------------------|\n| 1      | - Escopo MVP definido e aprovado<br>- Ambiente de desenvolvimento configurado |\n| 2      | - Funcionalidades básicas do frontend implementadas e testadas                |\n| 3      | - Integração com WhatsApp Business funcional em homologação                  |\n| 4      | - Frontend conectado ao backend com testes de integração                      |\n| 5      | - Testes de carga aprovados; Sistema otimizado                                |\n| 6      | - MVP deployado em produção; Documentação finalizada; Monitoramento configurado |\n\n### Decisões e Justificativas\n\n1. **Priorização do Escopo MVP na Semana 1:**  \n   - Justificativa: É crucial definir claramente o que será entregue no MVP para evitar escopo creep e garantir que todos estejam alinhados.\n\n2. **Início da Integração com WhatsApp Business na Semana 3:**  \n   - Justificativa: A integração com o WhatsApp Business é um ponto crítico e pode ter problemas não previstos, então é importante começar cedo para ter tempo de resolver problemas.\n\n3. **Realização de Testes de Carga na Semana 5:**  \n   - Justificativa: Testes de carga são essenciais para garantir que o sistema suporte o tráfego esperado. Realizá-los tarde dem\n    "
          },
          "metadata": {}
        }
      ]
    }
  ]
}