{
  "nbformat": 4,
  "nbformat_minor": 0,
  "metadata": {
    "colab": {
      "provenance": [],
      "collapsed_sections": [
        "UR5UUSs1vSa9",
        "MBglR7um29yg",
        "WMx9g-Xf3pae"
      ],
      "authorship_tag": "ABX9TyOKx5DG5FLX10f8DvQKyGNS",
      "include_colab_link": true
    },
    "kernelspec": {
      "name": "python3",
      "display_name": "Python 3"
    },
    "language_info": {
      "name": "python"
    }
  },
  "cells": [
    {
      "cell_type": "markdown",
      "metadata": {
        "id": "view-in-github",
        "colab_type": "text"
      },
      "source": [
        "<a href=\"https://colab.research.google.com/github/pathbit/pathbit-academy-ai/blob/master/0001_llm_x_lrm/notebooks/comparacao_llm_lrm.ipynb\" target=\"_parent\"><img src=\"https://colab.research.google.com/assets/colab-badge.svg\" alt=\"Open In Colab\"/></a>"
      ]
    },
    {
      "cell_type": "markdown",
      "source": [
        "# ✨ **Pathbit Academy AI**\n",
        "---"
      ],
      "metadata": {
        "id": "1CWaJaNkr5JB"
      }
    },
    {
      "cell_type": "markdown",
      "source": [
        "🚨 **IMPORTANTE:**\n",
        "\n",
        "*💥 QUALQUER PESSOA QUE CONSIGA RESOLVER A EQUAÇÃO `2 + 2 = ?` PODE CONTINUAR OS PASSOS ABAIXO*"
      ],
      "metadata": {
        "id": "Xv670htP1LDr"
      }
    },
    {
      "cell_type": "markdown",
      "source": [
        "**Artigo de referência:** [https://github.com/pathbit/pathbit-academy-ai/blob/master/0001_llm_x_lrm/article/ARTICLE.md](https://github.com/pathbit/pathbit-academy-ai/blob/master/0001_llm_x_lrm/article/ARTICLE.md)"
      ],
      "metadata": {
        "id": "IjPFjjMwyR7a"
      }
    },
    {
      "cell_type": "markdown",
      "source": [
        "### ֎ **Comparação LLM vs LRM**\n",
        "---"
      ],
      "metadata": {
        "id": "xVCGcybMsiqE"
      }
    },
    {
      "cell_type": "markdown",
      "source": [
        "#### ⁉️ O que é LLM de forma prática?\n",
        "\n",
        "**Foco:** geração de linguagem natural.\n",
        "Treinamento: enormes volumes de texto para aprender padrões linguísticos.\n",
        "\n",
        "**Ponto forte:** velocidade e flexibilidade para responder qualquer tipo de pergunta textual.\n",
        "\n",
        "**Ponto fraco:** raciocínio profundo e consistência em decisões complexas.\n",
        "\n",
        "\n",
        "#### ⁉️ O que é LRM de forma prática?\n",
        "\n",
        "**Foco:** raciocínio estruturado e resolução de problemas.\n",
        "Treinamento: combina dados textuais com técnicas que forçam o modelo a explicar e validar seu raciocínio (cadeia de pensamento, decomposição de problemas, verificação de hipóteses).\n",
        "\n",
        "**Ponto forte:** consistência em tomadas de decisão complexas.\n",
        "\n",
        "**Ponto fraco:** pode ser mais lento e caro que um LLM para tarefas simples."
      ],
      "metadata": {
        "id": "vtuur6nhxuec"
      }
    },
    {
      "cell_type": "markdown",
      "source": [
        "#### ⛳ Criação de conta no Groq\n",
        "---"
      ],
      "metadata": {
        "id": "UR5UUSs1vSa9"
      }
    },
    {
      "cell_type": "markdown",
      "source": [
        "##### ▶ Acessar o site abaixo para criar sua conta\n",
        "\n",
        "**[Groq.com](https://console.groq.com/)**"
      ],
      "metadata": {
        "id": "AZ0vnkOtvX_K"
      }
    },
    {
      "cell_type": "markdown",
      "source": [
        "##### ▶ Criar uma `API KEY` para a sua conta\n",
        "\n",
        "![Criação API KEY](https://raw.githubusercontent.com/pathbit/pathbit-academy-ai/refs/heads/master/0001_llm_x_lrm/assets/01.png)"
      ],
      "metadata": {
        "id": "qwSYsld9wklD"
      }
    },
    {
      "cell_type": "markdown",
      "source": [
        "##### ▶ Copiar e salvar a Api Key em um lugar seguro\n",
        "\n",
        "> **Observações**: *Você pode acessar Api Keys criados através deste link: [https://console.groq.com/keys](https://console.groq.com/keys)*\n",
        "\n",
        "![Copiar API KEY](https://raw.githubusercontent.com/pathbit/pathbit-academy-ai/refs/heads/master/0001_llm_x_lrm/assets/02.png)"
      ],
      "metadata": {
        "id": "hW3KkWLhwmAF"
      }
    },
    {
      "cell_type": "markdown",
      "source": [
        "##### ▶ Adicionar a Api Key criada nas `secrets` do seu Notebook\n",
        "\n",
        "![Adicionar API KEY no Secrets](https://raw.githubusercontent.com/pathbit/pathbit-academy-ai/refs/heads/master/0001_llm_x_lrm/assets/03.png)\n",
        "\n",
        "\n",
        "![Adicionar API KEY no Secrets](https://raw.githubusercontent.com/pathbit/pathbit-academy-ai/refs/heads/master/0001_llm_x_lrm/assets/04.png)"
      ],
      "metadata": {
        "id": "lBz8FBEFzVrg"
      }
    },
    {
      "cell_type": "markdown",
      "source": [
        "#### ⚙️ Configuração do ambiente\n",
        "---"
      ],
      "metadata": {
        "id": "RqiwoNKc1GOU"
      }
    },
    {
      "cell_type": "markdown",
      "source": [
        "##### ▶ Instalar os pacotes que iremos utilizar neste projeto"
      ],
      "metadata": {
        "id": "MBglR7um29yg"
      }
    },
    {
      "cell_type": "code",
      "execution_count": 16,
      "metadata": {
        "id": "zC78TBpW-9J_"
      },
      "outputs": [],
      "source": [
        "# ==============================\n",
        "# Instalar a biblioteca do groq\n",
        "# ==============================\n",
        "!pip -q install groq"
      ]
    },
    {
      "cell_type": "markdown",
      "source": [
        "##### ▶ Criar e recuperar a variável de ambiente para utilizar no Groq"
      ],
      "metadata": {
        "id": "WMx9g-Xf3pae"
      }
    },
    {
      "cell_type": "code",
      "source": [
        "# Criar e recuperar a variável de ambiente do Groq\n",
        "# ------------------------------\n",
        "\n",
        "# ==============================\n",
        "# Importar os módulos\n",
        "# ==============================\n",
        "import os\n",
        "from google.colab import userdata\n",
        "\n",
        "# ==============================\n",
        "# Constante com o nome da secrete adicionada no Notebook\n",
        "# ==============================\n",
        "GROQ_API_KEY_NAME = \"GROQ_API_KEY\"\n",
        "\n",
        "try:\n",
        "  # ==============================\n",
        "  # Apagar variável de ambiente criada anteriormente\n",
        "  # ==============================\n",
        "  os.environ.pop(GROQ_API_KEY_NAME, None)\n",
        "\n",
        "  # ==============================\n",
        "  # Recupera a secrete adicionada no Notebook\n",
        "  # ==============================\n",
        "  groq_api_key = userdata.get(GROQ_API_KEY_NAME)\n",
        "\n",
        "  # ==============================\n",
        "  # Cria a variável de ambiente para o Groq\n",
        "  # ==============================\n",
        "  os.environ[GROQ_API_KEY_NAME] = groq_api_key\n",
        "\n",
        "  # ==============================\n",
        "  # Verifica se a variável de ambiente não existe\n",
        "  # ==============================\n",
        "  if GROQ_API_KEY_NAME not in os.environ:\n",
        "    raise ValueError(f\"Variável de ambiente {GROQ_API_KEY_NAME} não definida\")\n",
        "\n",
        "  # ==============================\n",
        "  # Imprime o valor da variável de ambiente criada para o Groq\n",
        "  # ==============================\n",
        "  print(f\"✅ {GROQ_API_KEY_NAME}: {os.environ['GROQ_API_KEY'][:6]}******\")\n",
        "except Exception as e:\n",
        "  # ==============================\n",
        "  # Imprime o erro ao tentar recuperar e atualizar a variável de ambiente\n",
        "  # ==============================\n",
        "  print(f\"❌ Erro ao atualizar a variável de ambiente {GROQ_API_KEY_NAME}: {e}\")"
      ],
      "metadata": {
        "colab": {
          "base_uri": "https://localhost:8080/"
        },
        "id": "KRkCX4pC3p3P",
        "outputId": "fa772a04-c21f-4aa1-d482-2302eb8f1ad0"
      },
      "execution_count": 17,
      "outputs": [
        {
          "output_type": "stream",
          "name": "stdout",
          "text": [
            "✅ GROQ_API_KEY: gsk_P1******\n"
          ]
        }
      ]
    },
    {
      "cell_type": "markdown",
      "source": [
        "##### ▶ Validar se o Groq está funcionando corretamente\n",
        "\n",
        "⚠️ Este modelo `compound-beta` é da própria `Groq`, tem um resultado excelente até estes momentos dos meus testes."
      ],
      "metadata": {
        "id": "lvBbPHNVvd9P"
      }
    },
    {
      "cell_type": "code",
      "source": [
        "# ==============================\n",
        "# Importar os módulos\n",
        "# ==============================\n",
        "import os\n",
        "from groq import Groq\n",
        "from IPython.display import Markdown, display\n",
        "\n",
        "# ==============================\n",
        "# Configurar a API Key da Groq\n",
        "# (recomendo guardar em segredos do Colab)\n",
        "# ==============================\n",
        "groq_api_key = os.environ[GROQ_API_KEY_NAME]\n",
        "client = Groq(api_key=groq_api_key)\n",
        "\n",
        "# ==============================\n",
        "# Definir o modelo de LLM que iremos utilizar\n",
        "# Modelos: https://console.groq.com/docs/models\n",
        "# ==============================\n",
        "LLM_MODEL = \"compound-beta\"\n",
        "\n",
        "# ==============================\n",
        "# Criar a prompt do sistema\n",
        "# ==============================\n",
        "prompt_sistema = \"\"\"\n",
        "REGRAS:\n",
        "\n",
        "++++\n",
        "\n",
        "Você é um especialista da área de inteligência artificial e está instruindo\n",
        "crianças e adolescentes no período escolar fundamental.\n",
        "\n",
        "  1. Utilize respostas fáceis para o seu público.\n",
        "\n",
        "  2. Utilize exemplos práticos do dia-a-dia desse público.\n",
        "\n",
        "  3. A resposta deve ser formatada no padrão Markdown, seus títulos devem começar\n",
        "  com 3 \"#\", utilizar emojis e ter as quebras adequadas para separar bem cada\n",
        "  parte do texto, facilitando a leitura.\n",
        "\n",
        "  4. Você pode utiliar um pouco de linguagem técnica até para que a pessoa tenha\n",
        "  interesse em continuar pesquisando sobre o tema e seus subtemas.\n",
        "\n",
        "++++\n",
        "\n",
        "\"\"\".strip()\n",
        "\n",
        "# ==============================\n",
        "# Pergunta do usuário\n",
        "# ==============================\n",
        "pergunta_usuario = \"Qual a diferença entre LLMs e LRMs?\"\n",
        "\n",
        "# ==============================\n",
        "# Criar o prompt final concatenado (para exibir ou logar)\n",
        "# ==============================\n",
        "prompt_final = f\"{prompt_sistema}\\n\\nUSUÁRIO:\\n\\n{pergunta_usuario}\"\n",
        "\n",
        "# ==============================\n",
        "# Montar mensagens no formato da Groq e chamar o modelo\n",
        "# ==============================\n",
        "messages = [\n",
        "    {\"role\": \"system\", \"content\": prompt_sistema},\n",
        "    {\"role\": \"user\", \"content\": pergunta_usuario},\n",
        "]\n",
        "\n",
        "resp = client.chat.completions.create(\n",
        "    model=LLM_MODEL,\n",
        "    messages=messages,\n",
        "    temperature=0.3,\n",
        "    max_completion_tokens=1024,\n",
        ")\n",
        "\n",
        "resposta_modelo = resp.choices[0].message.content\n",
        "\n",
        "# ==============================\n",
        "# Visualizando o resultado formatado em Markdown\n",
        "# ==============================\n",
        "display(Markdown(f\"\"\"\n",
        "## > Prompt do sistema\n",
        "{prompt_sistema}\n",
        "\n",
        "## > Pergunta do usuário\n",
        "{pergunta_usuario}\n",
        "\n",
        "## > Prompt final enviado ao LLM\n",
        "{prompt_final}\n",
        "\n",
        "## > Resposta do LLM\n",
        "{resposta_modelo}\n",
        "\"\"\"))"
      ],
      "metadata": {
        "colab": {
          "base_uri": "https://localhost:8080/",
          "height": 1000
        },
        "id": "IKUwA6xYvThe",
        "outputId": "8ff33333-79fe-4dfe-d9ec-0e2c2693452e"
      },
      "execution_count": 23,
      "outputs": [
        {
          "output_type": "display_data",
          "data": {
            "text/plain": [
              "<IPython.core.display.Markdown object>"
            ],
            "text/markdown": "\n## > Prompt do sistema\nREGRAS:\n\n++++\n\nVocê é um especialista da área de inteligência artificial e está instruindo\ncrianças e adolescentes no período escolar fundamental.\n\n  1. Utilize respostas fáceis para o seu público.\n\n  2. Utilize exemplos práticos do dia-a-dia desse público.\n\n  3. A resposta deve ser formatada no padrão Markdown, seus títulos devem começar\n  com 3 \"#\", utilizar emojis e ter as quebras adequadas para separar bem cada \n  parte do texto, facilitando a leitura.\n\n  4. Você pode utiliar um pouco de linguagem técnica até para que a pessoa tenha\n  interesse em continuar pesquisando sobre o tema e seus subtemas.\n\n++++\n\n## > Pergunta do usuário\nQual a diferença entre LLMs e LRMs?\n\n## > Prompt final enviado ao LLM\nREGRAS:\n\n++++\n\nVocê é um especialista da área de inteligência artificial e está instruindo\ncrianças e adolescentes no período escolar fundamental.\n\n  1. Utilize respostas fáceis para o seu público.\n\n  2. Utilize exemplos práticos do dia-a-dia desse público.\n\n  3. A resposta deve ser formatada no padrão Markdown, seus títulos devem começar\n  com 3 \"#\", utilizar emojis e ter as quebras adequadas para separar bem cada \n  parte do texto, facilitando a leitura.\n\n  4. Você pode utiliar um pouco de linguagem técnica até para que a pessoa tenha\n  interesse em continuar pesquisando sobre o tema e seus subtemas.\n\n++++\n\nUSUÁRIO:\n\nQual a diferença entre LLMs e LRMs?\n\n## > Resposta do LLM\n### Diferença entre LLMs e LRMs\nA diferença entre LLMs (Large Language Models) e LRMs (Large Reasoning Models) é fundamentalmente baseada no seu propósito e abordagem.\n\n#### LLMs\nOs LLMs são projetados para processar e gerar texto de forma muito realista, imitando a linguagem humana. Eles são treinados com grandes conjuntos de dados de texto para aprender padrões e estruturas da linguagem. Isso os torna capazes de realizar tarefas como:\n- Gerar texto coerente e natural\n- Traduzir textos de um idioma para outro\n- Responder a perguntas de forma apropriada\n- Sumarizar textos longos\n\n#### LRMs\nPor outro lado, os LRMs são projetados para raciocinar e gerar respostas lógicas e coerentes. Eles são treinados com conjuntos de dados que enfatizam a lógica e o raciocínio, permitindo que realizem tarefas como:\n- Resolver problemas lógicos\n- Fazer inferências baseadas em informações disponíveis\n- Tomar decisões com base em regras e condições\n- Diagnosticar problemas complexos\n\n#### Resumo da Diferença\nEm resumo, a principal diferença entre LLMs e LRMs está no seu foco:\n- **LLMs** se concentram em **processar e gerar linguagem natural**, buscando imitar a forma como os humanos se comunicam.\n- **LRMs** se concentram em **raciocinar e tomar decisões lógicas**, buscando resolver problemas e tomar decisões com base em regras e lógica.\n\nEssa diferença reflete os diferentes objetivos e aplicações desses modelos, com LLMs sendo mais comuns em tarefas de processamento de linguagem natural e LRMs sendo mais adequados para tarefas que requerem raciocínio e tomada de decisões lógicas.\n"
          },
          "metadata": {}
        }
      ]
    },
    {
      "cell_type": "markdown",
      "source": [
        "### </> Criando as funções para utilizar modelos de LLM e LRM\n",
        "---\n",
        "\n",
        "**ℹ️️ Observações:**\n",
        "\n",
        "*Tentei fazer a melhor documentação possível para explicar o código.*\n",
        "\n",
        "**⚠️ Importante:**\n",
        "\n",
        "*Para garantir os melhores resultados, o código utiliza dois modelos de linguagem diferentes, cada um com uma finalidade específica:*\n",
        "\n",
        "- **`Llama3-70B-8192:`** Um modelo mais genérico, com um foco em compreensão de linguagem natural e tarefas de conversação. Ele é ideal para interpretar o contexto do texto e gerar respostas fluentes e coerentes, garantindo que a comunicação seja clara e natural. O `llama3-70b-8192` está focado gerar texto de forma fluída e natural, como uma conversa, mas não em resolver problemas lógicos ou matemáticos complexos passo a passo como o outro modelo.\n",
        "\n",
        "- **`DeepSeek R1 Distill Llama 70B:`** Este modelo é especializado em tarefas que exigem um raciocínio complexo, como lógica, matemática e programação. Sua arquitetura é otimizada para resolver problemas estruturados de forma eficiente. O `deepseek-r1-distill-llama-70b` é um exemplo, focado em \"pensar\" passo a passo antes de chegar a uma resposta."
      ],
      "metadata": {
        "id": "OAOrEU7q7F1J"
      }
    },
    {
      "cell_type": "markdown",
      "source": [
        "> **FUNÇÕES BÁSICAS**"
      ],
      "metadata": {
        "id": "d95kpV6QA3oc"
      }
    },
    {
      "cell_type": "markdown",
      "source": [
        "\n",
        "**1. Função para recuperar o cliente do Groq**\n"
      ],
      "metadata": {
        "id": "qd0IVDMn-MaJ"
      }
    },
    {
      "cell_type": "code",
      "source": [
        "# ==============================\n",
        "# Importar os módulos\n",
        "# ==============================\n",
        "import os\n",
        "import time\n",
        "from groq import Groq\n",
        "from typing import Tuple, Optional\n",
        "from IPython.display import Markdown, display\n",
        "\n",
        "\n",
        "def criar_cliente_groq() -> Groq:\n",
        "    \"\"\"\n",
        "    Cria o cliente da Groq usando a variável de ambiente GROQ_API_KEY.\n",
        "\n",
        "    Por que usar env var?\n",
        "    - Segurança: evita hardcode de chaves no notebook.\n",
        "    - Reprodutibilidade: o mesmo código funciona em diferentes ambientes.\n",
        "    \"\"\"\n",
        "    groq_api_key = os.environ[GROQ_API_KEY_NAME]\n",
        "    if not groq_api_key:\n",
        "        raise RuntimeError(\n",
        "            \"GROQ_API_KEY não definida. No Colab, use: os.environ['GROQ_API_KEY']='sua_chave'\"\n",
        "        )\n",
        "    return Groq(api_key=groq_api_key)\n",
        "\n",
        "\n",
        "def exibir_resposta(\n",
        "    modelo: str,\n",
        "    pergunta: str,\n",
        "    resposta: str,\n",
        "    raciocinio: str = None,\n",
        "    tempo: float = 0.0\n",
        "  ):\n",
        "    \"\"\"\n",
        "    Exibe saída formatada em Markdown no Jupyter/Colab.\n",
        "    - modelo     : nome do modelo utilizado (LLM ou LRM)\n",
        "    - pergunta   : texto enviado\n",
        "    - resposta   : resposta final ao usuário\n",
        "    - raciocinio : cadeia de raciocínio (opcional)\n",
        "    - tempo      : tempo total da execução\n",
        "    \"\"\"\n",
        "    texto_raciocinio = \"\"\n",
        "\n",
        "    if raciocinio:\n",
        "        texto_raciocinio += f\"\\n\\n\"\n",
        "        texto_raciocinio += f\"## 🧐 Raciocínio                                \\n\"\n",
        "        texto_raciocinio += f\"================================================\\n\\n\"\n",
        "        texto_raciocinio += f\"{raciocinio.strip()}\"\n",
        "\n",
        "    texto_md = f\"\"\"\n",
        "## 🧠 Modelo: `{modelo}`\n",
        "**⏱ Tempo de execução:** {tempo:.2f}s\n",
        "\n",
        "{texto_raciocinio}\n",
        "\n",
        "### 📥 Pergunta\n",
        "\n",
        "{pergunta.strip()}\n",
        "\n",
        "### 📤 Resposta\n",
        "\n",
        "{resposta.strip()}\n",
        "    \"\"\"\n",
        "\n",
        "    display(Markdown(texto_md))"
      ],
      "metadata": {
        "id": "2syPSkoZ8Tgg"
      },
      "execution_count": 86,
      "outputs": []
    },
    {
      "cell_type": "markdown",
      "source": [
        "> **LLM: FUNÇÕES E TESTES**\n",
        "\n"
      ],
      "metadata": {
        "id": "HcQRCQ4yAljB"
      }
    },
    {
      "cell_type": "markdown",
      "source": [
        "**2. LLM: Função para responder usando modelo llama3 do Groq**"
      ],
      "metadata": {
        "id": "UMaq_7lW-r2R"
      }
    },
    {
      "cell_type": "code",
      "source": [
        "# ==============================\n",
        "# Importar os módulos\n",
        "# ==============================\n",
        "import os\n",
        "import time\n",
        "from typing import Tuple, Optional\n",
        "from groq import Groq\n",
        "\n",
        "# ==============================\n",
        "# Função: perguntar_llm\n",
        "# Objetivo: enviar pergunta a um modelo de LINGUAGEM (LLM)\n",
        "# Retorna: (texto_resposta, tempo_em_segundos)\n",
        "# ==============================\n",
        "def perguntar_llm(\n",
        "    pergunta: str,\n",
        "    modelo: str = \"llama3-70b-8192\",       # Modelo padrão para linguagem natural\n",
        "    temperatura: float = 0.2,              # Controla a aleatoriedade da resposta\n",
        "    max_tokens_resposta: int = 1024,       # Limita tamanho da resposta (custo/latência)\n",
        "    sistema: Optional[str] = None          # Regras ou persona opcionais\n",
        ") -> Tuple[str, float]:\n",
        "    \"\"\"\n",
        "    Envia uma pergunta para um modelo LLM.\n",
        "\n",
        "    Parâmetros:\n",
        "    - pergunta           : texto enviado ao modelo.\n",
        "    - modelo             : modelo LLM para tarefas gerais (resumo, reescrita, Q&A).\n",
        "    - temperatura        : controla a \"criatividade\" (0.1–0.3 = mais determinístico).\n",
        "    - max_tokens_resposta: limita tamanho da saída, evitando custo ou lentidão.\n",
        "    - sistema            : mensagem opcional para regras ou persona.\n",
        "\n",
        "    Retorna:\n",
        "    - texto: resposta final do modelo.\n",
        "    - tempo: tempo total da chamada em segundos.\n",
        "    \"\"\"\n",
        "    # cria o cliente autenticado\n",
        "    cliente = criar_cliente_groq()\n",
        "\n",
        "    # monta mensagens no formato da API (sistema opcional + usuário obrigatório)\n",
        "    mensagens = []\n",
        "    if sistema:\n",
        "        mensagens.append({\"role\": \"system\", \"content\": sistema})\n",
        "\n",
        "    mensagens.append({\"role\": \"user\", \"content\": pergunta})\n",
        "\n",
        "    # marca início para medir tempo de execução\n",
        "    inicio = time.perf_counter()\n",
        "\n",
        "    # chamada à API da Groq\n",
        "    resposta = cliente.chat.completions.create(\n",
        "        model=modelo,\n",
        "        messages=mensagens,\n",
        "        temperature=temperatura,\n",
        "        max_completion_tokens=max_tokens_resposta,\n",
        "    )\n",
        "\n",
        "    # calcula tempo total\n",
        "    tempo_execucao = time.perf_counter() - inicio\n",
        "\n",
        "    # extrai conteúdo textual da resposta\n",
        "    texto_resposta = resposta.choices[0].message.content.strip()\n",
        "\n",
        "    return modelo, texto_resposta, tempo_execucao"
      ],
      "metadata": {
        "id": "VPoE6SHo-qCJ"
      },
      "execution_count": 65,
      "outputs": []
    },
    {
      "cell_type": "markdown",
      "source": [
        "**3. LLM: Testando a função para responder com LLM**"
      ],
      "metadata": {
        "id": "ijpWGrbX_bX7"
      }
    },
    {
      "cell_type": "code",
      "source": [
        "# ==============================\n",
        "# Testando a LLM\n",
        "# ==============================\n",
        "\n",
        "# LLM: resumo e reescrita de tom (usando perguntar_llm)\n",
        "texto = \"\"\"\n",
        "O Banco Central manteve a taxa Selic inalterada. Analistas projetam estabilidade\n",
        "nos próximos meses, com atenção à inflação de serviços e ao mercado de trabalho.\n",
        "\"\"\"\n",
        "\n",
        "# Pedimos um RESUMO curto (linguagem neutra) — tarefa típica de LLM\n",
        "prompt_resumo = f\"Resuma em 2 frases, com linguagem neutra e direta: {texto}\"\n",
        "modelo_resumo, resposta_resumo, tempo_resumo = perguntar_llm(\n",
        "    pergunta=prompt_resumo,\n",
        "    sistema=\"Responda em Markdown de forma clara e concisa.\"\n",
        ")\n",
        "\n",
        "exibir_resposta(\n",
        "    modelo=modelo_resumo,\n",
        "    pergunta=prompt_resumo,\n",
        "    resposta=resposta_resumo,\n",
        "    tempo=tempo_resumo\n",
        ")\n",
        "\n",
        "# Agora pedimos para REESCREVER o próprio resumo com outro tom.\n",
        "#   - IMPORTANTE: incluímos explicitamente o 'resumo' no prompt (o modelo não “lembra” sozinho).\n",
        "prompt_tom = (\n",
        "    \"Reescreva o resumo abaixo com tom mais informal e amigável, mantendo precisão.\\n\\n\"\n",
        "    f\"RESUMO ORIGINAL:\\n{resposta_resumo}\"\n",
        ")\n",
        "modelo_tom, resposta_tom, tempo_tom = perguntar_llm(\n",
        "    pergunta=prompt_tom,\n",
        "    sistema=\"Responda em Markdown e use linguagem acessível; evite jargões.\"\n",
        ")\n",
        "\n",
        "exibir_resposta(\n",
        "    modelo=modelo_tom,\n",
        "    pergunta=prompt_tom,\n",
        "    resposta=resposta_tom,\n",
        "    tempo=tempo_tom\n",
        ")"
      ],
      "metadata": {
        "colab": {
          "base_uri": "https://localhost:8080/",
          "height": 490
        },
        "id": "XxprzeEJ_bJL",
        "outputId": "5deeedab-80c7-4705-b36f-4d79870a4a79"
      },
      "execution_count": 83,
      "outputs": [
        {
          "output_type": "display_data",
          "data": {
            "text/plain": [
              "<IPython.core.display.Markdown object>"
            ],
            "text/markdown": "\n## 🧠 Modelo: `llama3-70b-8192`  \n**⏱ Tempo de execução:** 0.38s  \n\n\n\n### 📥 Pergunta\n\nResuma em 2 frases, com linguagem neutra e direta: \nO Banco Central manteve a taxa Selic inalterada. Analistas projetam estabilidade\nnos próximos meses, com atenção à inflação de serviços e ao mercado de trabalho.\n\n### 📤 Resposta\n\nO Banco Central manteve a taxa Selic inalterada, indicando estabilidade nos próximos meses. Analistas seguem atentos à inflação de serviços e ao mercado de trabalho para avaliar possíveis mudanças futuras.\n    "
          },
          "metadata": {}
        },
        {
          "output_type": "display_data",
          "data": {
            "text/plain": [
              "<IPython.core.display.Markdown object>"
            ],
            "text/markdown": "\n## 🧠 Modelo: `llama3-70b-8192`  \n**⏱ Tempo de execução:** 0.42s  \n\n\n\n### 📥 Pergunta\n\nReescreva o resumo abaixo com tom mais informal e amigável, mantendo precisão.\n\nRESUMO ORIGINAL:\nO Banco Central manteve a taxa Selic inalterada, indicando estabilidade nos próximos meses. Analistas seguem atentos à inflação de serviços e ao mercado de trabalho para avaliar possíveis mudanças futuras.\n\n### 📤 Resposta\n\n**Boas Notícias!**\nO Banco Central decidiu manter a taxa Selic igual, o que significa que as coisas devem ficar estáveis nos próximos meses. Agora, os especialistas estão de olho na inflação de serviços e no mercado de trabalho para ver se há alguma mudança no horizonte.\n    "
          },
          "metadata": {}
        }
      ]
    },
    {
      "cell_type": "markdown",
      "source": [
        "> **LRM: FUNÇÕES E TESTES**"
      ],
      "metadata": {
        "id": "cJs63UUhAwja"
      }
    },
    {
      "cell_type": "markdown",
      "source": [
        "**4. LRM: Função para responder usando modelo deepseek do Groq**"
      ],
      "metadata": {
        "id": "gYh2luuPAzrJ"
      }
    },
    {
      "cell_type": "code",
      "source": [
        "# ==============================\n",
        "# Importar os módulos\n",
        "# ==============================\n",
        "import os\n",
        "import time\n",
        "from typing import Tuple, Optional\n",
        "from groq import Groq\n",
        "\n",
        "# ==============================\n",
        "# Função: perguntar_lrm\n",
        "# Objetivo: enviar pergunta a um modelo de RACIOCÍNIO (LRM)\n",
        "# Retorna: (texto_ao_usuario, cadeia_de_raciocinio, tempo_em_segundos)\n",
        "# ==============================\n",
        "def perguntar_lrm(\n",
        "    pergunta: str,\n",
        "    modelo: str = \"deepseek-r1-distill-llama-70b\",   # Modelo otimizado para raciocínio\n",
        "    temperatura: float = 0.2,                        # Baixa variação para consistência\n",
        "    formato_raciocinio: Optional[str] = \"parsed\",    # 'parsed', 'raw', 'hidden' ou None\n",
        "    incluir_raciocinio: bool = True,                 # Só usado se formato_raciocinio=None\n",
        "    max_tokens_resposta: int = 2000,                 # Limite da resposta final\n",
        "    max_tokens_raciocinio: Optional[int] = None,     # Limite da cadeia de raciocínio\n",
        "    sistema: Optional[str] = None                    # Mensagem de sistema opcional\n",
        ") -> Tuple[str, Optional[str], float]:\n",
        "    \"\"\"\n",
        "    Envia uma pergunta a um modelo de raciocínio (LRM) da Groq.\n",
        "\n",
        "    Comportamento:\n",
        "    - Se `formato_raciocinio` ∈ {'parsed','raw','hidden'} → usa `reasoning_format` e\n",
        "      **NÃO** envia `include_reasoning` (evita erro 400).\n",
        "      • 'parsed'  → cadeia vem separada em `message.reasoning`\n",
        "      • 'raw'     → cadeia vem crua, com marcações\n",
        "      • 'hidden'  → o modelo raciocina, mas não retorna a cadeia\n",
        "    - Se `formato_raciocinio` for None → não envia `reasoning_format` e usa `include_reasoning`.\n",
        "\n",
        "    Retorno:\n",
        "      (conteudo_final, cadeia_de_raciocinio|None, tempo_execucao_s)\n",
        "    \"\"\"\n",
        "    # Cliente autenticado\n",
        "    chave = os.getenv(\"GROQ_API_KEY\")\n",
        "    if not chave:\n",
        "        raise RuntimeError(\"Defina GROQ_API_KEY no ambiente.\")\n",
        "    cliente = Groq(api_key=chave)\n",
        "\n",
        "    # Mensagens no formato Chat\n",
        "    mensagens = []\n",
        "    if sistema:\n",
        "        mensagens.append({\"role\": \"system\", \"content\": sistema})\n",
        "    mensagens.append({\"role\": \"user\", \"content\": pergunta})\n",
        "\n",
        "    # Monta kwargs dinâmicos conforme as regras da API\n",
        "    kwargs = {\n",
        "        \"model\": modelo,\n",
        "        \"messages\": mensagens,\n",
        "        \"temperature\": temperatura,\n",
        "        \"max_completion_tokens\": max_tokens_resposta,\n",
        "    }\n",
        "\n",
        "    # Se limite de tokens do raciocínio foi definido, adiciona\n",
        "    if max_tokens_raciocinio is not None:\n",
        "        kwargs[\"max_reasoning_tokens\"] = max_tokens_raciocinio\n",
        "\n",
        "    # Regra de exclusão mútua:\n",
        "    # - Se formato_raciocinio estiver definido, usa reasoning_format e IGNORA include_reasoning\n",
        "    # - Se formato_raciocinio for None, usa include_reasoning (sem reasoning_format)\n",
        "    if formato_raciocinio is not None:\n",
        "        kwargs[\"reasoning_format\"] = formato_raciocinio\n",
        "        # NÃO adicionar include_reasoning para evitar o erro 400\n",
        "    else:\n",
        "        kwargs[\"include_reasoning\"] = bool(incluir_raciocinio)\n",
        "\n",
        "    # Chamada e cronômetro\n",
        "    inicio = time.perf_counter()\n",
        "    resp = cliente.chat.completions.create(**kwargs)\n",
        "    tempo = time.perf_counter() - inicio\n",
        "\n",
        "    # Extração da resposta e (se houver) do raciocínio\n",
        "    msg = resp.choices[0].message\n",
        "    conteudo = (msg.content or \"\").strip()\n",
        "\n",
        "    # A cadeia só vem quando:\n",
        "    # - usamos reasoning_format ('parsed'/'raw'), E\n",
        "    # - não é 'hidden'\n",
        "    if formato_raciocinio in (\"parsed\", \"raw\"):\n",
        "        raciocinio = getattr(msg, \"reasoning\", None)\n",
        "    else:\n",
        "        # Quando formato=None e include_reasoning=True, algumas combinações\n",
        "        # podem retornar o raciocínio embutido; a API nem sempre expõe em `reasoning`.\n",
        "        raciocinio = getattr(msg, \"reasoning\", None)\n",
        "\n",
        "    return modelo, conteudo, raciocinio, tempo"
      ],
      "metadata": {
        "id": "pqYmYrwP-RoL"
      },
      "execution_count": 68,
      "outputs": []
    },
    {
      "cell_type": "markdown",
      "source": [
        "**5. LRM: Testando a função para responder com LRM**\n",
        "\n",
        "-\n",
        "\n",
        "**ℹ️️ IMPORTANTE:**\n",
        "\n",
        "> *Para ver como o modelo chegou à resposta final, procure a seção **🧐 Raciocínio.** Essa é uma demonstração do poder dos modelos especializados em lógica e raciocínio.*\n"
      ],
      "metadata": {
        "id": "9eS76H1EDeJD"
      }
    },
    {
      "cell_type": "code",
      "source": [
        "# ==============================\n",
        "# Testando a LRM\n",
        "# ==============================\n",
        "\n",
        "# LRM: análise estruturada com justificativa\n",
        "import json\n",
        "\n",
        "cenario = {\n",
        "    \"perfil\": \"conservador\",\n",
        "    \"inflacao_projetada_aa\": 4.0,\n",
        "    \"cdi_aa\": 13.25,\n",
        "    \"vencimentos_anos\": [2026, 2027],\n",
        "    \"objetivo\": \"renda previsível com baixa volatilidade\",\n",
        "}\n",
        "cenario_fmt = json.dumps(cenario, ensure_ascii=False)\n",
        "\n",
        "prompt_lrm = f\"\"\"\n",
        "Você é um analista de investimentos.\n",
        "\n",
        "Dado o cenário:\n",
        "- {cenario}\n",
        "\n",
        "Decida entre:\n",
        "- título atrelado ao CDI;\n",
        "- prefixado curto;\n",
        "- IPCA+ longo.\n",
        "\n",
        "Importante:\n",
        "\n",
        "1. Resposta e raciocínio sempre em portugês do brasil.\n",
        "2. Estruture o raciocínio em etapas (riscos, liquidez, duration, sensibilidade à inflação).\n",
        "3. Apresente a recomendação final e uma política de rebalanceamento simples.\n",
        "4. Use números aproximados e justificativas claras.\n",
        "\"\"\"\n",
        "\n",
        "modelo, resposta, cadeia, tempo = perguntar_lrm(\n",
        "    pergunta=prompt_lrm,\n",
        "    sistema=\"Responda em Markdown, com listas numeradas nas etapas.\"\n",
        ")\n",
        "\n",
        "exibir_resposta(\n",
        "    modelo=modelo,\n",
        "    pergunta=prompt_lrm,\n",
        "    resposta=resposta,\n",
        "    raciocinio=cadeia,\n",
        "    tempo=tempo\n",
        ")"
      ],
      "metadata": {
        "colab": {
          "base_uri": "https://localhost:8080/",
          "height": 1000
        },
        "id": "3ejlx82kDZ2P",
        "outputId": "c90f98a3-ddff-4360-a7dc-f4519934f45a"
      },
      "execution_count": 87,
      "outputs": [
        {
          "output_type": "display_data",
          "data": {
            "text/plain": [
              "<IPython.core.display.Markdown object>"
            ],
            "text/markdown": "\n## 🧠 Modelo: `deepseek-r1-distill-llama-70b`  \n**⏱ Tempo de execução:** 4.03s  \n\n\n\n## 🧐 Raciocínio                                \n================================================\n\nOk, vou começar analisando o perfil do investidor. Ele é conservador, então busca renda previsível com baixa volatilidade. Isso me faz pensar que ele não quer correr riscos altos e prefere estabilidade.\n\nAgora, olhando para as opções: título atrelado ao CDI, prefixado curto e IPCA+ longo. O CDI está em 13,25% ao ano, e a inflação projetada é 4%. O investidor tem vencimentos em 2026 e 2027, então o prazo é médio.\n\nPrimeiro, vou considerar os riscos. O título atrelado ao CDI acompanha a taxa de juros, o que pode ser bom, mas se os juros caírem, o valor pode diminuir. O prefixado curto tem menor risco de mercado, já que o valor é fixo, e o IPCA+ longo está mais protegido contra inflação, mas pode ter mais volatilidade.\n\nEm relação à liquidez, o título atrelado ao CDI pode ser negociado com facilidade, assim como o prefixado curto. O IPCA+ longo, por ser mais específico, pode ter menos liquidez, o que pode ser um problema se o investidor precisar resgatar rápido.\n\nO duration também é importante. O IPCA+ longo tem um duration maior, o que o torna mais sensível a mudanças nas taxas de juros. Já o prefixado curto tem duration menor, menos afetado por isso. O título atrelado ao CDI acompanha as taxas de curto prazo, então também menos exposição a mudanças.\n\nSobre a inflação, o IPCA+ longo oferece proteção contra a inflação, o que é bom, mas o investidor já tem uma inflação projetada de 4%, e o CDI está em 13,25%, então talvez o IPCA+ não ofereça um retorno significativamente maior.\n\nConsiderando o objetivo de renda previsível e baixa volatilidade, o prefixado curto parece mais adequado. Ele oferece retorno fixo, menor risco de mercado e liquidez razoável. O IPCA+ longo, apesar de proteger contra inflação, pode ter mais volatilidade, o que não é ideal para um perfil conservador.\n\nPara a política de rebalanceamento, recomendaria rever a carteira anualmente ou sempre que houver mudanças significativas nas taxas de juros ou na inflação. Isso ajudaria a manter a exposição de risco sob controle e ajustar conforme necessário.\n\nPortanto, a recomendação seria investir no prefixado curto, pois ele atende melhor às necessidades do investidor em termos de risco, liquidez e retorno previsível.\n\n### 📥 Pergunta\n\nVocê é um analista de investimentos. \n\nDado o cenário:\n- {'perfil': 'conservador', 'inflacao_projetada_aa': 4.0, 'cdi_aa': 13.25, 'vencimentos_anos': [2026, 2027], 'objetivo': 'renda previsível com baixa volatilidade'}\n\nDecida entre: \n- título atrelado ao CDI; \n- prefixado curto; \n- IPCA+ longo.\n\nImportante:\n\n1. Resposta e raciocínio sempre em portugês do brasil.\n2. Estruture o raciocínio em etapas (riscos, liquidez, duration, sensibilidade à inflação).\n3. Apresente a recomendação final e uma política de rebalanceamento simples.\n4. Use números aproximados e justificativas claras.\n\n### 📤 Resposta\n\n### Análise de Investimento para Perfil Conservador\n\n#### 1. **Riscos**\n   - **Título atrelado ao CDI**: Oferece retorno ligado ao CDI (13,25% a.a.), mas pode sofrer impacto se os juros caírem.\n   - **Prefixado curto**: Retorno fixo menor, mas com menor risco de mercado.\n   - **IPCA+ longo**: Proteção contra inflação, mas com maior volatilidade.\n\n#### 2. **Liquidez**\n   - **Título atrelado ao CDI**: Alta liquidez.\n   - **Prefixado curto**: Liquidez moderada.\n   - **IPCA+ longo**: Liquidez baixa devido ao prazo mais longo.\n\n#### 3. **Duration**\n   - **Título atrelado ao CDI**: Duration baixo, menos sensível a mudanças nas taxas.\n   - **Prefixado curto**: Duration menor, menos impactado por taxas.\n   - **IPCA+ longo**: Duration maior, mais sensível a mudanças nas taxas.\n\n#### 4. **Sensibilidade à Inflação**\n   - **Título atrelado ao CDI**: Sensível a mudanças nos juros.\n   - **Prefixado curto**: Menos sensível à inflação.\n   - **IPCA+ longo**: Protege contra inflação, mas com maior volatilidade.\n\n### Recomendação Final\n**Investimento Recomendado:** **Prefixado curto**\n\n**Justificativa:**\n- Oferece retorno fixo e baixo risco de mercado.\n- Menor exposição a mudanças nas taxas de juros.\n- Liquidez moderada, adequada para vencimentos em 2026 e 2027.\n\n### Política de Rebalanceamento\n- **Revisão Anual:** Ajustar a carteira anualmente para manter o perfil de risco.\n- **Monitoramento de Taxas:** Acompanhar mudanças nas taxas de juros e inflação para possíveis ajustes.\n\n**Conclusão:** O prefixado curto é a opção mais adequada para um investidor conservador, oferecendo estabilidade e retorno previsível com baixa volatilidade.\n    "
          },
          "metadata": {}
        }
      ]
    },
    {
      "cell_type": "markdown",
      "source": [
        "### Comparando ֎ LLM vs LRM 🧠\n",
        "---"
      ],
      "metadata": {
        "id": "bIbj9yHPDx5l"
      }
    },
    {
      "cell_type": "code",
      "source": [],
      "metadata": {
        "id": "EFQKdnzCELm6"
      },
      "execution_count": null,
      "outputs": []
    }
  ]
}